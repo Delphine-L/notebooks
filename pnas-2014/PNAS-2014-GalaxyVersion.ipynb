{
 "cells": [
  {
   "cell_type": "markdown",
   "metadata": {},
   "source": [
    "# Maternal Age Effect and Severe Germline bottleneck in the Inheritance of mitochondrial DNA heteroplasmy"
   ]
  },
  {
   "cell_type": "markdown",
   "metadata": {},
   "source": [
    "This notebook replicates the analyses shown in Rebolledo-Jaramillo, Su et al (2014) *Maternal Age Effect and Severe Germline bottleneck in the Inheritance of mitochondrial DNA heteroplasmy*  [**PNAS October 28, 2014 vol. 111 no. 43 15474-15479**](http://www.pnas.org/content/111/43/15474.abstract)\n",
    "\n",
    "This analysis uses the following datasets as inputs:\n",
    "\n",
    " * Allele counts produced with Galaxy pipeline (TODO: Provide link to Galaxy history here);\n",
    " * GenBank file containing sequence and annotation for human mitochondrial genome (accession `NC_012920.1`);\n",
    " * Tab-delimited file of ages for individuals analyzed here\n",
    " * Known list of problematic sites to be excluded from the analysis\n",
    " "
   ]
  },
  {
   "cell_type": "markdown",
   "metadata": {},
   "source": [
    "## Import necessary python modules\n",
    "\n",
    "\n",
    " * [pandas](http://pandas.pydata.org/) - A library providing high-performance, easy-to-use data structures and data analysis tools \n",
    " * [numpy](http://www.numpy.org/) - A package for scientific computing with Python\n",
    " * [itertools](https://docs.python.org/2/library/itertools.html) - Functions for creation of iterators for efficient looping\n",
    " * [biopython](http://biopython.org/wiki/Main_Page) - A set of Python modules for biological computation"
   ]
  },
  {
   "cell_type": "code",
   "execution_count": 1,
   "metadata": {
    "collapsed": false
   },
   "outputs": [],
   "source": [
    "import pandas as pd\n",
    "import numpy as np\n",
    "import itertools\n",
    "from Bio import SeqIO\n",
    "from Bio.Seq import Seq\n",
    "from Bio import Entrez\n",
    "from Bio.Alphabet import IUPAC"
   ]
  },
  {
   "cell_type": "markdown",
   "metadata": {},
   "source": [
    "## Load R extensions and install necessary R modules"
   ]
  },
  {
   "cell_type": "code",
   "execution_count": 2,
   "metadata": {
    "collapsed": true
   },
   "outputs": [],
   "source": [
    "# Load R magic, which will allow running R directly in the notebook\n",
    "%load_ext rpy2.ipython"
   ]
  },
  {
   "cell_type": "code",
   "execution_count": 3,
   "metadata": {
    "collapsed": false
   },
   "outputs": [],
   "source": [
    "# Make a directory where R modules will be installed\n",
    "!mkdir R"
   ]
  },
  {
   "cell_type": "code",
   "execution_count": 4,
   "metadata": {
    "collapsed": false
   },
   "outputs": [
    {
     "name": "stderr",
     "output_type": "stream",
     "text": [
      "/opt/conda/envs/python2/lib/python2.7/site-packages/rpy2/robjects/functions.py:106: UserWarning: trying URL 'http://cran.cnr.berkeley.edu/src/contrib/shape_1.4.2.tar.gz'\n",
      "\n",
      "  res = super(Function, self).__call__(*new_args, **new_kwargs)\n",
      "/opt/conda/envs/python2/lib/python2.7/site-packages/rpy2/robjects/functions.py:106: UserWarning: Content type 'application/x-gzip'\n",
      "  res = super(Function, self).__call__(*new_args, **new_kwargs)\n",
      "/opt/conda/envs/python2/lib/python2.7/site-packages/rpy2/robjects/functions.py:106: UserWarning:  length 683515 bytes (667 KB)\n",
      "\n",
      "  res = super(Function, self).__call__(*new_args, **new_kwargs)\n",
      "/opt/conda/envs/python2/lib/python2.7/site-packages/rpy2/robjects/functions.py:106: UserWarning: =\n",
      "  res = super(Function, self).__call__(*new_args, **new_kwargs)\n",
      "/opt/conda/envs/python2/lib/python2.7/site-packages/rpy2/robjects/functions.py:106: UserWarning: \n",
      "\n",
      "  res = super(Function, self).__call__(*new_args, **new_kwargs)\n",
      "/opt/conda/envs/python2/lib/python2.7/site-packages/rpy2/robjects/functions.py:106: UserWarning: downloaded 667 KB\n",
      "\n",
      "\n",
      "  res = super(Function, self).__call__(*new_args, **new_kwargs)\n"
     ]
    },
    {
     "data": {
      "text/plain": [
       "\n",
       "The downloaded source packages are in\n",
       "\t'/tmp/Rtmp7vKI8v/downloaded_packages'\n"
      ]
     },
     "metadata": {},
     "output_type": "display_data"
    }
   ],
   "source": [
    "%%R\n",
    "install.packages(\"shape\", lib=\"R\", repos=\"http://cran.cnr.berkeley.edu\")"
   ]
  },
  {
   "cell_type": "code",
   "execution_count": 5,
   "metadata": {
    "collapsed": false
   },
   "outputs": [
    {
     "name": "stderr",
     "output_type": "stream",
     "text": [
      "/opt/conda/envs/python2/lib/python2.7/site-packages/rpy2/robjects/functions.py:106: UserWarning: trying URL 'http://cran.cnr.berkeley.edu/src/contrib/sm_2.2-5.4.tar.gz'\n",
      "\n",
      "  res = super(Function, self).__call__(*new_args, **new_kwargs)\n",
      "/opt/conda/envs/python2/lib/python2.7/site-packages/rpy2/robjects/functions.py:106: UserWarning:  length 256311 bytes (250 KB)\n",
      "\n",
      "  res = super(Function, self).__call__(*new_args, **new_kwargs)\n",
      "/opt/conda/envs/python2/lib/python2.7/site-packages/rpy2/robjects/functions.py:106: UserWarning: downloaded 250 KB\n",
      "\n",
      "\n",
      "  res = super(Function, self).__call__(*new_args, **new_kwargs)\n"
     ]
    },
    {
     "data": {
      "text/plain": [
       "\n",
       "The downloaded source packages are in\n",
       "\t'/tmp/Rtmp7vKI8v/downloaded_packages'\n"
      ]
     },
     "metadata": {},
     "output_type": "display_data"
    }
   ],
   "source": [
    "%%R\n",
    "install.packages(\"sm\", lib=\"R\", repos=\"http://cran.cnr.berkeley.edu\")"
   ]
  },
  {
   "cell_type": "code",
   "execution_count": 6,
   "metadata": {
    "collapsed": false
   },
   "outputs": [
    {
     "name": "stderr",
     "output_type": "stream",
     "text": [
      "/opt/conda/envs/python2/lib/python2.7/site-packages/rpy2/robjects/functions.py:106: UserWarning: trying URL 'http://cran.cnr.berkeley.edu/src/contrib/vioplot_0.2.tar.gz'\n",
      "\n",
      "  res = super(Function, self).__call__(*new_args, **new_kwargs)\n",
      "/opt/conda/envs/python2/lib/python2.7/site-packages/rpy2/robjects/functions.py:106: UserWarning:  length 3801 bytes\n",
      "\n",
      "  res = super(Function, self).__call__(*new_args, **new_kwargs)\n",
      "/opt/conda/envs/python2/lib/python2.7/site-packages/rpy2/robjects/functions.py:106: UserWarning: downloaded 3801 bytes\n",
      "\n",
      "\n",
      "  res = super(Function, self).__call__(*new_args, **new_kwargs)\n"
     ]
    },
    {
     "data": {
      "text/plain": [
       "\n",
       "The downloaded source packages are in\n",
       "\t'/tmp/Rtmp7vKI8v/downloaded_packages'\n"
      ]
     },
     "metadata": {},
     "output_type": "display_data"
    }
   ],
   "source": [
    "%%R\n",
    "install.packages(\"vioplot\", lib=\"R\", repos=\"http://cran.cnr.berkeley.edu\")"
   ]
  },
  {
   "cell_type": "code",
   "execution_count": 7,
   "metadata": {
    "collapsed": false
   },
   "outputs": [
    {
     "name": "stderr",
     "output_type": "stream",
     "text": [
      "/opt/conda/envs/python2/lib/python2.7/site-packages/rpy2/robjects/functions.py:106: UserWarning: Loading required package: shape\n",
      "\n",
      "  res = super(Function, self).__call__(*new_args, **new_kwargs)\n",
      "/opt/conda/envs/python2/lib/python2.7/site-packages/rpy2/robjects/functions.py:106: UserWarning: Loading required package: sm\n",
      "\n",
      "  res = super(Function, self).__call__(*new_args, **new_kwargs)\n",
      "/opt/conda/envs/python2/lib/python2.7/site-packages/rpy2/robjects/functions.py:106: UserWarning: Package 'sm', version 2.2-5.4: type help(sm) for summary information\n",
      "\n",
      "  res = super(Function, self).__call__(*new_args, **new_kwargs)\n",
      "/opt/conda/envs/python2/lib/python2.7/site-packages/rpy2/robjects/functions.py:106: UserWarning: Loading required package: vioplot\n",
      "\n",
      "  res = super(Function, self).__call__(*new_args, **new_kwargs)\n"
     ]
    }
   ],
   "source": [
    "%%R\n",
    "require(shape, lib.loc=\"R\")\n",
    "require(sm, lib.loc=\"R\")\n",
    "require(vioplot, lib.loc=\"R\")"
   ]
  },
  {
   "cell_type": "markdown",
   "metadata": {},
   "source": [
    "## Load datasets\n",
    "\n",
    "In this example all necessary data are located in Galaxy's history. They can be accessed using the `get()` function. For example, to load data in the first history item into Jupyter environment simply use `get(1)`, where `1` is the history item number. \n",
    "\n",
    "Obviously, if your history looks different, change the numbers in the cells below. "
   ]
  },
  {
   "cell_type": "code",
   "execution_count": 8,
   "metadata": {
    "collapsed": false
   },
   "outputs": [
    {
     "data": {
      "text/html": [
       "<div>\n",
       "<table border=\"1\" class=\"dataframe\">\n",
       "  <thead>\n",
       "    <tr style=\"text-align: right;\">\n",
       "      <th></th>\n",
       "      <th>0</th>\n",
       "      <th>1</th>\n",
       "      <th>2</th>\n",
       "      <th>3</th>\n",
       "      <th>4</th>\n",
       "      <th>5</th>\n",
       "      <th>6</th>\n",
       "      <th>7</th>\n",
       "      <th>8</th>\n",
       "      <th>9</th>\n",
       "      <th>10</th>\n",
       "      <th>11</th>\n",
       "      <th>12</th>\n",
       "      <th>13</th>\n",
       "      <th>14</th>\n",
       "      <th>15</th>\n",
       "    </tr>\n",
       "  </thead>\n",
       "  <tbody>\n",
       "    <tr>\n",
       "      <th>0</th>\n",
       "      <td>M493-ch</td>\n",
       "      <td>chrM</td>\n",
       "      <td>1</td>\n",
       "      <td>0</td>\n",
       "      <td>0</td>\n",
       "      <td>3297</td>\n",
       "      <td>0</td>\n",
       "      <td>0</td>\n",
       "      <td>0</td>\n",
       "      <td>2011</td>\n",
       "      <td>0</td>\n",
       "      <td>5308</td>\n",
       "      <td>1</td>\n",
       "      <td>G</td>\n",
       "      <td>.</td>\n",
       "      <td>0</td>\n",
       "    </tr>\n",
       "    <tr>\n",
       "      <th>1</th>\n",
       "      <td>M480-ch</td>\n",
       "      <td>chrM</td>\n",
       "      <td>1</td>\n",
       "      <td>0</td>\n",
       "      <td>0</td>\n",
       "      <td>2996</td>\n",
       "      <td>0</td>\n",
       "      <td>0</td>\n",
       "      <td>0</td>\n",
       "      <td>2080</td>\n",
       "      <td>0</td>\n",
       "      <td>5076</td>\n",
       "      <td>1</td>\n",
       "      <td>G</td>\n",
       "      <td>.</td>\n",
       "      <td>0</td>\n",
       "    </tr>\n",
       "  </tbody>\n",
       "</table>\n",
       "</div>"
      ],
      "text/plain": [
       "        0     1   2   3   4     5   6   7   8     9   10    11  12 13 14  15\n",
       "0  M493-ch  chrM   1   0   0  3297   0   0   0  2011   0  5308   1  G  .   0\n",
       "1  M480-ch  chrM   1   0   0  2996   0   0   0  2080   0  5076   1  G  .   0"
      ]
     },
     "execution_count": 8,
     "metadata": {},
     "output_type": "execute_result"
    }
   ],
   "source": [
    "# Load Allele Counts\n",
    "\n",
    "# Uncomment for Galaxy use\n",
    "with open(get(1)) as ac:\n",
    "    first_line = ac.readline()\n",
    "    if first_line.startswith(\"#\"):\n",
    "        df = pd.read_table(ac)\n",
    "    else:\n",
    "        df = pd.read_table(ac,header=None)\n",
    "\n",
    "# The line below prints the first twio lines of the data to give you an idea\n",
    "df.head(2)"
   ]
  },
  {
   "cell_type": "code",
   "execution_count": 9,
   "metadata": {
    "collapsed": false
   },
   "outputs": [
    {
     "name": "stdout",
     "output_type": "stream",
     "text": [
      "NC_012920.1 with 105 features\n"
     ]
    }
   ],
   "source": [
    "# Load Genbank file containing mitochondrial genome sequence and annotations\n",
    "# See http://biopython.org/DIST/docs/tutorial/Tutorial.html#htoc55\n",
    "# This loads record with Accession:NC_012920.1  GI:251831106\n",
    "# This cell should return \"NC_012920.1 with 105 features\"\n",
    "\n",
    "# Code below loads directly from NCBI but requires Internet connection\n",
    "# Alternatively you can load this dataset from history using the line below:\n",
    "# rCRS = SeqIO.read(get(<HISTORY ITEM NUMBER>), \"genbank\")\n",
    "\n",
    "Entrez.email = \"A.N.Other@example.com\"\n",
    "handle = Entrez.efetch(db=\"nucleotide\", rettype=\"gb\", retmode=\"text\", id=\"251831106\")\n",
    "rCRS = SeqIO.read(handle, \"genbank\")\n",
    "handle.close()\n",
    "print(\"%s with %i features\" % (rCRS.id, len(rCRS.features)))"
   ]
  },
  {
   "cell_type": "code",
   "execution_count": 10,
   "metadata": {
    "collapsed": false
   },
   "outputs": [
    {
     "data": {
      "text/html": [
       "<div>\n",
       "<table border=\"1\" class=\"dataframe\">\n",
       "  <thead>\n",
       "    <tr style=\"text-align: right;\">\n",
       "      <th></th>\n",
       "      <th>0</th>\n",
       "      <th>1</th>\n",
       "      <th>2</th>\n",
       "      <th>3</th>\n",
       "    </tr>\n",
       "  </thead>\n",
       "  <tbody>\n",
       "    <tr>\n",
       "      <th>0</th>\n",
       "      <td>M132</td>\n",
       "      <td>16658</td>\n",
       "      <td>M132C1</td>\n",
       "      <td>7460</td>\n",
       "    </tr>\n",
       "    <tr>\n",
       "      <th>1</th>\n",
       "      <td>M137</td>\n",
       "      <td>14294</td>\n",
       "      <td>M137C2</td>\n",
       "      <td>6202</td>\n",
       "    </tr>\n",
       "  </tbody>\n",
       "</table>\n",
       "</div>"
      ],
      "text/plain": [
       "      0      1       2     3\n",
       "0  M132  16658  M132C1  7460\n",
       "1  M137  14294  M137C2  6202"
      ]
     },
     "execution_count": 10,
     "metadata": {},
     "output_type": "execute_result"
    }
   ],
   "source": [
    "# Load individuals' ages (ages in days)\n",
    "\n",
    "# Uncomment for Galaxy use\n",
    "with open(get(5)) as sa:\n",
    "#with open(\"/Users/anton/sandbox/pnas-2014/Sample_ages.tab\") as sa:\n",
    "    first_line = sa.readline()\n",
    "    if first_line.startswith(\"#\"):\n",
    "        sampAges = pd.read_table(sa)\n",
    "    else:\n",
    "        sampAges = pd.read_table(sa,header=None)\n",
    "sampAges.head(2)"
   ]
  },
  {
   "cell_type": "markdown",
   "metadata": {},
   "source": [
    "## Define problematic sites and regions\n",
    "\n",
    " * Problematic sites are defined as heteroplasmic sites that failed to be validated by experimental means. In particular, there is an additional screenning step not shown here, where we calculate the cycle bias of the site, i.e. whether the alternative allele is supported primarily by nucleotides within 25 bp of the read ends. There are 9 such cases, and two additional cases of sites we could not replicate with a new long range PCR (deemed PCR errors). These 11 sites are provided as an input dataset for this analysis.\n",
    " * Problematic reagions include:\n",
    "   - mtDNA homopolymeres\n",
    "   - region around the artificial \"N\" at position 3107\n",
    "   - regions within 50 bp of the long range PCR primers"
   ]
  },
  {
   "cell_type": "code",
   "execution_count": 11,
   "metadata": {
    "collapsed": true
   },
   "outputs": [],
   "source": [
    "# Read in bad (problematic) sites dataset from history\n",
    "\n",
    "knownBadhqSites = pd.read_table(get(2),header=None)\n",
    "\n",
    "#knownBadhqSites = pd.read_table(\"/Users/anton/sandbox/pnas-2014/Known_bad_sites.tab\",header=None)"
   ]
  },
  {
   "cell_type": "code",
   "execution_count": 12,
   "metadata": {
    "collapsed": false
   },
   "outputs": [],
   "source": [
    "# Define problematic regions\n",
    "\n",
    "mask = [(66,71),(303,311),(514,523),(12418,12425),(16184,16193),\n",
    "      (3105,3109),(2817,2868),(3320,3370),(10796,10846),(11520,11570)]\n",
    "\n",
    "maskRegions = list()\n",
    "for start,end in mask:\n",
    "    maskRegions+=range(start,end+1)"
   ]
  },
  {
   "cell_type": "markdown",
   "metadata": {},
   "source": [
    "## Prepare data\n",
    "If a header was present in the allele counts input dataset, Pandas assigned the column names automatically. However we will standardize the column names so they can be easily accessed later."
   ]
  },
  {
   "cell_type": "code",
   "execution_count": 13,
   "metadata": {
    "collapsed": false
   },
   "outputs": [],
   "source": [
    "df.columns=[\"sample\",\"reference\",\"position\",\"A\",\"C\",\"G\",\"T\",\"a\",\"c\",\"g\",\"t\",\"cvrg\",\"nalleles\",\"major\",\"minor\",\"maf\"]"
   ]
  },
  {
   "cell_type": "code",
   "execution_count": 14,
   "metadata": {
    "collapsed": false
   },
   "outputs": [
    {
     "data": {
      "text/html": [
       "<div>\n",
       "<table border=\"1\" class=\"dataframe\">\n",
       "  <thead>\n",
       "    <tr style=\"text-align: right;\">\n",
       "      <th></th>\n",
       "      <th>sample</th>\n",
       "      <th>reference</th>\n",
       "      <th>position</th>\n",
       "      <th>A</th>\n",
       "      <th>C</th>\n",
       "      <th>G</th>\n",
       "      <th>T</th>\n",
       "      <th>a</th>\n",
       "      <th>c</th>\n",
       "      <th>g</th>\n",
       "      <th>t</th>\n",
       "      <th>cvrg</th>\n",
       "      <th>nalleles</th>\n",
       "      <th>major</th>\n",
       "      <th>minor</th>\n",
       "      <th>maf</th>\n",
       "    </tr>\n",
       "  </thead>\n",
       "  <tbody>\n",
       "    <tr>\n",
       "      <th>0</th>\n",
       "      <td>M493-ch</td>\n",
       "      <td>chrM</td>\n",
       "      <td>1</td>\n",
       "      <td>0</td>\n",
       "      <td>0</td>\n",
       "      <td>3297</td>\n",
       "      <td>0</td>\n",
       "      <td>0</td>\n",
       "      <td>0</td>\n",
       "      <td>2011</td>\n",
       "      <td>0</td>\n",
       "      <td>5308</td>\n",
       "      <td>1</td>\n",
       "      <td>G</td>\n",
       "      <td>.</td>\n",
       "      <td>0</td>\n",
       "    </tr>\n",
       "    <tr>\n",
       "      <th>1</th>\n",
       "      <td>M480-ch</td>\n",
       "      <td>chrM</td>\n",
       "      <td>1</td>\n",
       "      <td>0</td>\n",
       "      <td>0</td>\n",
       "      <td>2996</td>\n",
       "      <td>0</td>\n",
       "      <td>0</td>\n",
       "      <td>0</td>\n",
       "      <td>2080</td>\n",
       "      <td>0</td>\n",
       "      <td>5076</td>\n",
       "      <td>1</td>\n",
       "      <td>G</td>\n",
       "      <td>.</td>\n",
       "      <td>0</td>\n",
       "    </tr>\n",
       "  </tbody>\n",
       "</table>\n",
       "</div>"
      ],
      "text/plain": [
       "    sample reference  position  A  C     G  T  a  c     g  t  cvrg  nalleles  \\\n",
       "0  M493-ch      chrM         1  0  0  3297  0  0  0  2011  0  5308         1   \n",
       "1  M480-ch      chrM         1  0  0  2996  0  0  0  2080  0  5076         1   \n",
       "\n",
       "  major minor  maf  \n",
       "0     G     .    0  \n",
       "1     G     .    0  "
      ]
     },
     "execution_count": 14,
     "metadata": {},
     "output_type": "execute_result"
    }
   ],
   "source": [
    "# Let's take a look at the first two lines in the data frame\n",
    "df.head(2)"
   ]
  },
  {
   "cell_type": "markdown",
   "metadata": {},
   "source": [
    "In our data, all but one mother-child pair conforms to the naming convention:\n",
    "\n",
    "mother|child\n",
    "------|-----\n",
    "family-tissue|familyChild#-tissue\n",
    "M477-ch|M477C1-ch\n",
    "\n",
    "However, the pair M502G (grandmother) and M501 (mother) break the rule. So, we adjusted their ids accordingly:\n",
    "\n"
   ]
  },
  {
   "cell_type": "code",
   "execution_count": 15,
   "metadata": {
    "collapsed": false
   },
   "outputs": [],
   "source": [
    "old = [\"M502G-ch\",\"M502G-bl\",\"M501-ch\",\"M501-bl\"]\n",
    "new = [\"M502-ch\",\"M502-bl\",\"M502C1-ch\",\"M502C1-bl\"]\n",
    "df.replace(to_replace=old,value=new,inplace=True)"
   ]
  },
  {
   "cell_type": "markdown",
   "metadata": {},
   "source": [
    "## Plot sequencing depth distribution (Fig. S7)\n",
    "\n",
    "At this point we can calculate the coverage distribution of each sample, as shown in Figure S7 in the PNAS paper. To do so, we need to split the dataframe into blood and cheek dataframes, and make the object available to R (via [Rpy2](http://rpy.sourceforge.net/))."
   ]
  },
  {
   "cell_type": "code",
   "execution_count": 16,
   "metadata": {
    "collapsed": false
   },
   "outputs": [],
   "source": [
    "# Here we split the dataframe into blood and cheek samples\n",
    "blood = df[df['sample'].str.contains(\"-bl\")]\n",
    "cheek = df[df['sample'].str.contains(\"-ch\")]"
   ]
  },
  {
   "cell_type": "code",
   "execution_count": 17,
   "metadata": {
    "collapsed": false
   },
   "outputs": [
    {
     "data": {
      "text/html": [
       "<div>\n",
       "<table border=\"1\" class=\"dataframe\">\n",
       "  <thead>\n",
       "    <tr style=\"text-align: right;\">\n",
       "      <th></th>\n",
       "      <th>sample</th>\n",
       "      <th>reference</th>\n",
       "      <th>position</th>\n",
       "      <th>A</th>\n",
       "      <th>C</th>\n",
       "      <th>G</th>\n",
       "      <th>T</th>\n",
       "      <th>a</th>\n",
       "      <th>c</th>\n",
       "      <th>g</th>\n",
       "      <th>t</th>\n",
       "      <th>cvrg</th>\n",
       "      <th>nalleles</th>\n",
       "      <th>major</th>\n",
       "      <th>minor</th>\n",
       "      <th>maf</th>\n",
       "    </tr>\n",
       "  </thead>\n",
       "  <tbody>\n",
       "    <tr>\n",
       "      <th>1176398</th>\n",
       "      <td>M478C2-bl</td>\n",
       "      <td>chrM</td>\n",
       "      <td>1</td>\n",
       "      <td>0</td>\n",
       "      <td>0</td>\n",
       "      <td>1425</td>\n",
       "      <td>0</td>\n",
       "      <td>0</td>\n",
       "      <td>0</td>\n",
       "      <td>1163</td>\n",
       "      <td>0</td>\n",
       "      <td>2588</td>\n",
       "      <td>1</td>\n",
       "      <td>G</td>\n",
       "      <td>.</td>\n",
       "      <td>0</td>\n",
       "    </tr>\n",
       "    <tr>\n",
       "      <th>1176399</th>\n",
       "      <td>M240C1-bl</td>\n",
       "      <td>chrM</td>\n",
       "      <td>1</td>\n",
       "      <td>0</td>\n",
       "      <td>0</td>\n",
       "      <td>1559</td>\n",
       "      <td>0</td>\n",
       "      <td>0</td>\n",
       "      <td>0</td>\n",
       "      <td>1379</td>\n",
       "      <td>0</td>\n",
       "      <td>2938</td>\n",
       "      <td>1</td>\n",
       "      <td>G</td>\n",
       "      <td>.</td>\n",
       "      <td>0</td>\n",
       "    </tr>\n",
       "  </tbody>\n",
       "</table>\n",
       "</div>"
      ],
      "text/plain": [
       "            sample reference  position  A  C     G  T  a  c     g  t  cvrg  \\\n",
       "1176398  M478C2-bl      chrM         1  0  0  1425  0  0  0  1163  0  2588   \n",
       "1176399  M240C1-bl      chrM         1  0  0  1559  0  0  0  1379  0  2938   \n",
       "\n",
       "         nalleles major minor  maf  \n",
       "1176398         1     G     .    0  \n",
       "1176399         1     G     .    0  "
      ]
     },
     "execution_count": 17,
     "metadata": {},
     "output_type": "execute_result"
    }
   ],
   "source": [
    "# Let's look at blood data frame\n",
    "blood.head(2)"
   ]
  },
  {
   "cell_type": "code",
   "execution_count": 18,
   "metadata": {
    "collapsed": false
   },
   "outputs": [
    {
     "data": {
      "text/html": [
       "<div>\n",
       "<table border=\"1\" class=\"dataframe\">\n",
       "  <thead>\n",
       "    <tr style=\"text-align: right;\">\n",
       "      <th></th>\n",
       "      <th>sample</th>\n",
       "      <th>reference</th>\n",
       "      <th>position</th>\n",
       "      <th>A</th>\n",
       "      <th>C</th>\n",
       "      <th>G</th>\n",
       "      <th>T</th>\n",
       "      <th>a</th>\n",
       "      <th>c</th>\n",
       "      <th>g</th>\n",
       "      <th>t</th>\n",
       "      <th>cvrg</th>\n",
       "      <th>nalleles</th>\n",
       "      <th>major</th>\n",
       "      <th>minor</th>\n",
       "      <th>maf</th>\n",
       "    </tr>\n",
       "  </thead>\n",
       "  <tbody>\n",
       "    <tr>\n",
       "      <th>0</th>\n",
       "      <td>M493-ch</td>\n",
       "      <td>chrM</td>\n",
       "      <td>1</td>\n",
       "      <td>0</td>\n",
       "      <td>0</td>\n",
       "      <td>3297</td>\n",
       "      <td>0</td>\n",
       "      <td>0</td>\n",
       "      <td>0</td>\n",
       "      <td>2011</td>\n",
       "      <td>0</td>\n",
       "      <td>5308</td>\n",
       "      <td>1</td>\n",
       "      <td>G</td>\n",
       "      <td>.</td>\n",
       "      <td>0</td>\n",
       "    </tr>\n",
       "    <tr>\n",
       "      <th>1</th>\n",
       "      <td>M480-ch</td>\n",
       "      <td>chrM</td>\n",
       "      <td>1</td>\n",
       "      <td>0</td>\n",
       "      <td>0</td>\n",
       "      <td>2996</td>\n",
       "      <td>0</td>\n",
       "      <td>0</td>\n",
       "      <td>0</td>\n",
       "      <td>2080</td>\n",
       "      <td>0</td>\n",
       "      <td>5076</td>\n",
       "      <td>1</td>\n",
       "      <td>G</td>\n",
       "      <td>.</td>\n",
       "      <td>0</td>\n",
       "    </tr>\n",
       "  </tbody>\n",
       "</table>\n",
       "</div>"
      ],
      "text/plain": [
       "    sample reference  position  A  C     G  T  a  c     g  t  cvrg  nalleles  \\\n",
       "0  M493-ch      chrM         1  0  0  3297  0  0  0  2011  0  5308         1   \n",
       "1  M480-ch      chrM         1  0  0  2996  0  0  0  2080  0  5076         1   \n",
       "\n",
       "  major minor  maf  \n",
       "0     G     .    0  \n",
       "1     G     .    0  "
      ]
     },
     "execution_count": 18,
     "metadata": {},
     "output_type": "execute_result"
    }
   ],
   "source": [
    "# And at the cheek data frame\n",
    "cheek.head(2)"
   ]
  },
  {
   "cell_type": "code",
   "execution_count": 19,
   "metadata": {
    "collapsed": false
   },
   "outputs": [],
   "source": [
    "# Use Rmagic to load data into R using the -i flag\n",
    "# This step will take a bit (~2 min)\n",
    "\n",
    "%R -i cheek,blood"
   ]
  },
  {
   "cell_type": "markdown",
   "metadata": {},
   "source": [
    "Let's peek at the R version of the blood dataframe:"
   ]
  },
  {
   "cell_type": "code",
   "execution_count": 20,
   "metadata": {
    "collapsed": false
   },
   "outputs": [
    {
     "data": {
      "text/plain": [
       "           sample reference position A C    G T a c    g t cvrg nalleles major\n",
       "1176398 M478C2-bl      chrM        1 0 0 1425 0 0 0 1163 0 2588        1     G\n",
       "1176399 M240C1-bl      chrM        1 0 0 1559 0 0 0 1379 0 2938        1     G\n",
       "        minor maf\n",
       "1176398     .   0\n",
       "1176399     .   0\n"
      ]
     },
     "metadata": {},
     "output_type": "display_data"
    }
   ],
   "source": [
    "%%R\n",
    "head(blood,2)"
   ]
  },
  {
   "cell_type": "markdown",
   "metadata": {},
   "source": [
    "Transform numeric looking columns into actual numeric columns to guarantee the value types:"
   ]
  },
  {
   "cell_type": "code",
   "execution_count": 21,
   "metadata": {
    "collapsed": false
   },
   "outputs": [],
   "source": [
    "%%R\n",
    "tonumeric = c(3:13,16)\n",
    "blood[,tonumeric] = apply(blood[,tonumeric], 2, function(x) as.numeric(as.character(x)))\n",
    "cheek[,tonumeric] = apply(cheek[,tonumeric], 2, function(x) as.numeric(as.character(x)))"
   ]
  },
  {
   "cell_type": "markdown",
   "metadata": {},
   "source": [
    "Define custom R function to generate **Figure S7**:"
   ]
  },
  {
   "cell_type": "code",
   "execution_count": 22,
   "metadata": {
    "collapsed": false
   },
   "outputs": [],
   "source": [
    "%%R\n",
    "boxPlotCvrg = function(data,tissue){\n",
    "    \n",
    "    names = sort(unique(data[[\"sample\"]]))\n",
    "    data[[\"sample\"]] = factor(data[[\"sample\"]],levels=names)\n",
    "    \n",
    "    boxplot(log10(cvrg)~sample,data=data,whisklty=\"solid\",outline=F,\n",
    "            whisklwd=0.5,boxlwd=1,medlwd=1,medcol=\"red\",main=\"\",\n",
    "            ylab=\"log10(coverage)\",bty=\"n\",frame=F,boxcol=\"white\",\n",
    "            boxfill=\"black\",medlwd=3,whiskcol=\"grey\",staplecol=\"grey\",ylim=c(2,6))\n",
    "    \n",
    "    mtext(tissue,adj=0,side=3,las=1,at=length(names)/2,font=2,cex=1.25)\n",
    "    }"
   ]
  },
  {
   "cell_type": "markdown",
   "metadata": {},
   "source": [
    "### Plot the figure\n",
    "You can adjust the size of the plotting image by adjusting:\n",
    "\n",
    "* `-w` = width\n",
    "* `-h` = height\n",
    "* `-u` = units\n",
    "* `-r` = resolution"
   ]
  },
  {
   "cell_type": "code",
   "execution_count": 23,
   "metadata": {
    "collapsed": false
   },
   "outputs": [
    {
     "data": {
      "image/png": "[encoded data removed]"
     },
     "metadata": {},
     "output_type": "display_data"
    }
   ],
   "source": [
    "%%R -w 18 -h 10 -u in -r 72\n",
    "\n",
    "par(las=2)\n",
    "par(mar=c(4,4,4,1))\n",
    "par(oma=c(2,2,0,0))\n",
    "par(mfrow=c(2,1))\n",
    "par(cex.lab=1.25)\n",
    "par(cex.axis=0.75)\n",
    "\n",
    "boxPlotCvrg(cheek,\"cheek\")\n",
    "boxPlotCvrg(blood,\"blood\")"
   ]
  },
  {
   "cell_type": "markdown",
   "metadata": {},
   "source": [
    "## Define high quality heteroplasmic sites\n",
    "\n",
    "We define high quality (HQ) sites as:\n",
    " \n",
    "  1. minor allele frequency (maf) ≥ 1%\n",
    "  2. coverage ≥ 1000\n",
    "  3. maf balance (1% in forward and reverse strands)\n",
    "  4. no strand bias\n",
    "  5. outside \"problematic sites\":\n",
    "     - mtDNA homopolymeres\n",
    "     - around the artificial \"N\" at position 3107\n",
    "     - within 50 bp of the long range PCR primers\n"
   ]
  },
  {
   "cell_type": "code",
   "execution_count": 24,
   "metadata": {
    "collapsed": false
   },
   "outputs": [],
   "source": [
    "# Filter sites on minor allele frequncy (maf), coverage (cvrg) and wheather \n",
    "# the sites are located in problematic regions\n",
    "# The list of problematic region (maskRegions) is defined in cell 12 above\n",
    "hq_sites = df[(df.maf>=0.01) & (df.cvrg>=1000) & ~df.position.isin(maskRegions)]"
   ]
  },
  {
   "cell_type": "code",
   "execution_count": 25,
   "metadata": {
    "collapsed": false
   },
   "outputs": [
    {
     "data": {
      "text/plain": [
       "572"
      ]
     },
     "execution_count": 25,
     "metadata": {},
     "output_type": "execute_result"
    }
   ],
   "source": [
    "len(hq_sites)"
   ]
  },
  {
   "cell_type": "markdown",
   "metadata": {},
   "source": [
    "By applying these initial filters, we reduced the dataframe from ~2 million lines to **572** lines only, which is much more manageable. Next, we calculate strand bias and maf balance for these 572 sites. The strand bias calciulation is perfomed according to Guo Y et al. [2012](http://bmcgenomics.biomedcentral.com/articles/10.1186/1471-2164-13-666)\n"
   ]
  },
  {
   "cell_type": "code",
   "execution_count": 26,
   "metadata": {
    "collapsed": false
   },
   "outputs": [],
   "source": [
    "# Compute strand and minor allele frequency bias\n",
    "\n",
    "def strand_stats(x, mafThreshold=0.01):\n",
    "    falleles = ['A','C','G','T']\n",
    "    ralleles = ['a','c','g','t']\n",
    "    sample,position,major,minor,coverage,maf = x[['sample','position','major','minor','coverage','maf']]\n",
    "    fcounts = x[falleles]\n",
    "    rcounts = x[ralleles]\n",
    "    if minor!='.':\n",
    "        index_major = falleles.index(major)\n",
    "        index_minor = falleles.index(minor)\n",
    "\n",
    "        fcount_minor = float(fcounts[index_minor])\n",
    "        ftotal = fcount_minor + fcounts[index_major]\n",
    "        \n",
    "        rcount_minor = float(rcounts[index_minor])\n",
    "        rtotal = rcount_minor + rcounts[index_major]\n",
    "        \n",
    "        minor_total = float(fcount_minor + rcount_minor)\n",
    "        site_total = ftotal + rtotal\n",
    "\n",
    "        try:\n",
    "            strandBias = abs( (fcount_minor/ftotal) - (rcount_minor/rtotal) ) / (minor_total/site_total)\n",
    "        except:\n",
    "            strandBias = np.nan\n",
    "            \n",
    "        try:\n",
    "            maf_frwd = fcount_minor/sum(fcounts)\n",
    "        except:\n",
    "            maf_frwd = np.nan\n",
    "        try:\n",
    "            maf_rvrs = rcount_minor/sum(rcounts)\n",
    "        except:\n",
    "            maf_rvrs = np.nan\n",
    "            \n",
    "        if (maf_frwd>=mafThreshold) and (maf_rvrs>=mafThreshold):\n",
    "            mafBalance = 1\n",
    "        else:\n",
    "            mafBalance = 0\n",
    "    else:\n",
    "        strandBias = float(2)\n",
    "        mafBalance = 0\n",
    "\n",
    "    return pd.Series([strandBias,mafBalance])"
   ]
  },
  {
   "cell_type": "code",
   "execution_count": 27,
   "metadata": {
    "collapsed": false
   },
   "outputs": [],
   "source": [
    "# Apply strand calculations to the data\n",
    "\n",
    "biasCols = hq_sites.apply(strand_stats,axis=1,args=(0.01,))\n",
    "biasCols.columns = [\"strandBias\",\"mafBalance\"]\n",
    "hq_sites = pd.concat([hq_sites,biasCols],axis=1)"
   ]
  },
  {
   "cell_type": "code",
   "execution_count": 28,
   "metadata": {
    "collapsed": false
   },
   "outputs": [
    {
     "data": {
      "text/plain": [
       "184"
      ]
     },
     "execution_count": 28,
     "metadata": {},
     "output_type": "execute_result"
    }
   ],
   "source": [
    "# Filter on strand and maf balance\n",
    "\n",
    "hq_sites = hq_sites[(hq_sites.strandBias<=1) & (hq_sites.mafBalance==1) ]\n",
    "len(hq_sites)"
   ]
  },
  {
   "cell_type": "code",
   "execution_count": 29,
   "metadata": {
    "collapsed": false
   },
   "outputs": [],
   "source": [
    "# Set bad sites column names \n",
    "knownBadhqSites.columns=[\"sample\",\"position\"]\n",
    "\n",
    "# Adjust naming convention for the anomalous grandmother-mother pair\n",
    "knownBadhqSites.replace(to_replace=old,value=new,inplace=True)\n",
    "\n",
    "# Transform bad sites into a hashable object \n",
    "bad = set(knownBadhqSites.itertuples(index=False))\n",
    "\n",
    "# Get a boolean array to filter high quality sites\n",
    "good = [x not in bad for x in hq_sites[['sample','position']].itertuples(index=False)]\n",
    "\n",
    "# Finally, filter high quality sites\n",
    "hq_sites = hq_sites[good]"
   ]
  },
  {
   "cell_type": "code",
   "execution_count": 30,
   "metadata": {
    "collapsed": false
   },
   "outputs": [
    {
     "data": {
      "text/plain": [
       "173"
      ]
     },
     "execution_count": 30,
     "metadata": {},
     "output_type": "execute_result"
    }
   ],
   "source": [
    "len(hq_sites)\n",
    "#hq_sites.to_csv(\"hq173.txt\",sep=\"\\t\",index=False)"
   ]
  },
  {
   "cell_type": "markdown",
   "metadata": {},
   "source": [
    "## Test statistical significance of high quality sites\n",
    "Finally, we calculate the significance of the minor allele frequency of a site provided the error rate at that position. The error rate is estimated from the remaining 155 samples, and the expected allele acounts are compared to the observed allele counts:"
   ]
  },
  {
   "cell_type": "code",
   "execution_count": 31,
   "metadata": {
    "collapsed": true
   },
   "outputs": [],
   "source": [
    "from scipy.stats import poisson"
   ]
  },
  {
   "cell_type": "code",
   "execution_count": 32,
   "metadata": {
    "collapsed": true
   },
   "outputs": [],
   "source": [
    "# We define a poisson function that will take a single high quality site, and explore the variability of\n",
    "# the position among the remaining samples\n",
    "\n",
    "\n",
    "def poisson_pval(current_df,sample):\n",
    "    alleles = ['A','C','G','T','a','c','g','t']\n",
    "    \n",
    "    sample_counts = list(current_df.loc[current_df['sample']==sample, alleles].iloc[0,:])\n",
    "    others_counts = list(current_df.loc[current_df['sample']!=sample, alleles].apply(sum,axis=0))\n",
    "    sample_coverage = sum(sample_counts)\n",
    "    \n",
    "    observed_error = (sum(others_counts) - max(others_counts))/float(sum(others_counts))\n",
    "    sample_nonMajor_counts = int(sample_coverage - max(sample_counts))\n",
    "    \n",
    "    pvalue = poisson.pmf(sample_nonMajor_counts, observed_error*sample_coverage)\n",
    "    \n",
    "    return pvalue"
   ]
  },
  {
   "cell_type": "code",
   "execution_count": 33,
   "metadata": {
    "collapsed": false
   },
   "outputs": [
    {
     "data": {
      "text/plain": [
       "173"
      ]
     },
     "execution_count": 33,
     "metadata": {},
     "output_type": "execute_result"
    }
   ],
   "source": [
    "poisson_pvalues = []\n",
    "\n",
    "for sample,position in hq_sites[[\"sample\",\"position\"]].itertuples(index=False):\n",
    "    poisson_pvalues.append(poisson_pval(df[df['position']==position],sample))\n",
    "\n",
    "    \n",
    "hq_sites[\"poisson\"] = poisson_pvalues\n",
    "hq_sites = hq_sites[hq_sites.poisson<=0.05]\n",
    "len(hq_sites)"
   ]
  },
  {
   "cell_type": "markdown",
   "metadata": {},
   "source": [
    "As described in the paper, all (173) sites were statiscally significant under the Poisson and Likelihood (not shown here) frameworks."
   ]
  },
  {
   "cell_type": "markdown",
   "metadata": {},
   "source": [
    "# Screening for contamination\n",
    "In our previous publication, Dickins, Rebolledo-Jaramillo, et al (2014) Controlling for contamination in resequencing studies with a reproducible web-based phylogentic approach [BioTechniques, 56(3):134–141](http://goo.gl/jv2J34), we described warning signs of a potential contamination. They include:\n",
    " 1. Excess heteroplasmic sites (≥5 per sample)\n",
    " 2. Tight minor allele frequency distribution\n",
    " 3. Non-family related positions of heteroplasmic sites\n",
    " \n",
    "We routinely apply our contamination detection pipeline, so we are confident our sites in the PNAS paper were not artifacts. As an example of the screening for contamination, we can plot the number of sites and the minor allele frequency distribution of all samples in the high quality sites set:"
   ]
  },
  {
   "cell_type": "code",
   "execution_count": 34,
   "metadata": {
    "collapsed": false
   },
   "outputs": [],
   "source": [
    "# Make R aware of the hq_sites dataframe\n",
    "%R -i hq_sites"
   ]
  },
  {
   "cell_type": "code",
   "execution_count": 35,
   "metadata": {
    "collapsed": false
   },
   "outputs": [
    {
     "data": {
      "text/plain": [
       "      sample reference position    A C  G T    a c  g t cvrg nalleles major\n",
       "2030 M490-ch      chrM      185 2663 0 73 0 3116 0 92 0 5944        2     A\n",
       "2074 M490-ch      chrM      189 2519 2 29 0 3159 0 41 0 5750        0     A\n",
       "     minor     maf strandBias mafBalance      poisson\n",
       "2030     G 0.02776 0.07194105          1 1.010608e-05\n",
       "2074     G 0.01217 0.11750754          1 1.546148e-05\n"
      ]
     },
     "metadata": {},
     "output_type": "display_data"
    }
   ],
   "source": [
    "%%R\n",
    "\n",
    "# Adjust value types in the hq_sites dataframe\n",
    "\n",
    "tonumeric = c(3:13,16:18)\n",
    "hq_sites[,tonumeric] = apply(hq_sites[,tonumeric], 2, function(x) as.numeric(as.character(x)))\n",
    "head(hq_sites,2)"
   ]
  },
  {
   "cell_type": "code",
   "execution_count": 36,
   "metadata": {
    "collapsed": false
   },
   "outputs": [
    {
     "data": {
      "image/png": "[encoded data removed]"
     },
     "metadata": {},
     "output_type": "display_data"
    }
   ],
   "source": [
    "%%R -w 10 -h 15 -u in -r 72\n",
    "\n",
    "# Plot hq_sites number of sites and minor allele frequency distribution\n",
    "\n",
    "par(mar=c(4,15,4,0))\n",
    "boxplot(\n",
    "  maf~sample,\n",
    "  data=hq_sites,\n",
    "  pch=16,cex=0.75,\n",
    "  outcol=\"azure3\",outline=T,\n",
    "  whisklty=1,whiskwd=1.5,\n",
    "  staplelwd=1.5,\n",
    "  boxwex=0.75,boxcol=\"white\",boxfill=\"cornflowerblue\",\n",
    "  horizontal=T,cex.axis=0.75,las=2,\n",
    "  frame=F,xaxt=\"n\",ylim=c(-0.01,0.5)\n",
    "  )\n",
    "\n",
    "axis(1,at=seq(0,5,0.5)/10,lab=100*(seq(0,5,0.5)/10),cex.axis=0.75)\n",
    "title(xlab=\"minor allele frequency (%)\",line=2.5,cex.axis=0.75)\n",
    "\n",
    "nsites = table(hq_sites[[\"sample\"]])\n",
    "for (i in 1:length(nsites)){\n",
    "  text(-0.01,i,lab=nsites[i],cex=0.75)\n",
    "}\n",
    "mtext(\"Nsites:\",side=3,line=-2,at=0,adj=1.25)"
   ]
  },
  {
   "cell_type": "markdown",
   "metadata": {},
   "source": [
    "## Placing high quality sites into *quartets*\n",
    "\n",
    "For each high quality site, we can retrieve the minor allele frequency information for the remaining 3 samples in the family collection. So, a quartet is simply a tabulation of the minor allele frequency for the mother blood and cheek, and her child blood and cheek, for the same site. Below is an example of a quarted for family **M494**:\n",
    "\n",
    "family|position|major|minor|mother_cheek|mother_blood|child_cheek|child_blood\n",
    "------|--------|-----|-----|------------|------------|-----------|-----------\n",
    "M494|9196|G|A|0.032|0.030|0.000|0.000\n",
    "\n",
    "\n"
   ]
  },
  {
   "cell_type": "markdown",
   "metadata": {},
   "source": [
    "However, before we can do that, we need to add family information to the high quality sites. We will do that by extracting the family id from each sample's id. It is also useful to have a way to split the data by tissue or member of the pair, so we will add the columns `family`, `tissue` and `member`, accordingly."
   ]
  },
  {
   "cell_type": "code",
   "execution_count": 37,
   "metadata": {
    "collapsed": false
   },
   "outputs": [],
   "source": [
    "# Get family id from sample id\n",
    "# i.e. M512C1-ch returns M512\n",
    "\n",
    "def getfamlabels(samplename):    \n",
    "    nameparts = [\"\".join(x) for _, x in itertools.groupby(samplename, key=str.isdigit)]\n",
    "    family = \"\".join(nameparts[:2])\n",
    "    if \"-ch\" in nameparts:\n",
    "        tissue = \"cheek\"\n",
    "    else:\n",
    "        tissue = \"blood\"\n",
    "    \n",
    "    if len(nameparts)>3:\n",
    "        pairclass = \"child\"\n",
    "    else:\n",
    "        pairclass = \"mother\"\n",
    "        \n",
    "    return pd.Series([family,tissue,pairclass])"
   ]
  },
  {
   "cell_type": "code",
   "execution_count": 38,
   "metadata": {
    "collapsed": false
   },
   "outputs": [],
   "source": [
    "# Apply the above function to the data\n",
    "\n",
    "hq_sites[[\"family\",\"tissue\",\"member\"]] = hq_sites[\"sample\"].apply(getfamlabels)"
   ]
  },
  {
   "cell_type": "code",
   "execution_count": 39,
   "metadata": {
    "collapsed": false
   },
   "outputs": [
    {
     "data": {
      "text/html": [
       "<div>\n",
       "<table border=\"1\" class=\"dataframe\">\n",
       "  <thead>\n",
       "    <tr style=\"text-align: right;\">\n",
       "      <th></th>\n",
       "      <th>sample</th>\n",
       "      <th>reference</th>\n",
       "      <th>position</th>\n",
       "      <th>A</th>\n",
       "      <th>C</th>\n",
       "      <th>G</th>\n",
       "      <th>T</th>\n",
       "      <th>a</th>\n",
       "      <th>c</th>\n",
       "      <th>g</th>\n",
       "      <th>...</th>\n",
       "      <th>nalleles</th>\n",
       "      <th>major</th>\n",
       "      <th>minor</th>\n",
       "      <th>maf</th>\n",
       "      <th>strandBias</th>\n",
       "      <th>mafBalance</th>\n",
       "      <th>poisson</th>\n",
       "      <th>family</th>\n",
       "      <th>tissue</th>\n",
       "      <th>member</th>\n",
       "    </tr>\n",
       "  </thead>\n",
       "  <tbody>\n",
       "    <tr>\n",
       "      <th>2030</th>\n",
       "      <td>M490-ch</td>\n",
       "      <td>chrM</td>\n",
       "      <td>185</td>\n",
       "      <td>2663</td>\n",
       "      <td>0</td>\n",
       "      <td>73</td>\n",
       "      <td>0</td>\n",
       "      <td>3116</td>\n",
       "      <td>0</td>\n",
       "      <td>92</td>\n",
       "      <td>...</td>\n",
       "      <td>2</td>\n",
       "      <td>A</td>\n",
       "      <td>G</td>\n",
       "      <td>0.02776</td>\n",
       "      <td>0.071941</td>\n",
       "      <td>1</td>\n",
       "      <td>0.000010</td>\n",
       "      <td>M490</td>\n",
       "      <td>cheek</td>\n",
       "      <td>mother</td>\n",
       "    </tr>\n",
       "    <tr>\n",
       "      <th>2074</th>\n",
       "      <td>M490-ch</td>\n",
       "      <td>chrM</td>\n",
       "      <td>189</td>\n",
       "      <td>2519</td>\n",
       "      <td>2</td>\n",
       "      <td>29</td>\n",
       "      <td>0</td>\n",
       "      <td>3159</td>\n",
       "      <td>0</td>\n",
       "      <td>41</td>\n",
       "      <td>...</td>\n",
       "      <td>0</td>\n",
       "      <td>A</td>\n",
       "      <td>G</td>\n",
       "      <td>0.01217</td>\n",
       "      <td>0.117508</td>\n",
       "      <td>1</td>\n",
       "      <td>0.000015</td>\n",
       "      <td>M490</td>\n",
       "      <td>cheek</td>\n",
       "      <td>mother</td>\n",
       "    </tr>\n",
       "  </tbody>\n",
       "</table>\n",
       "<p>2 rows × 22 columns</p>\n",
       "</div>"
      ],
      "text/plain": [
       "       sample reference  position     A  C   G  T     a  c   g   ...    \\\n",
       "2030  M490-ch      chrM       185  2663  0  73  0  3116  0  92   ...     \n",
       "2074  M490-ch      chrM       189  2519  2  29  0  3159  0  41   ...     \n",
       "\n",
       "      nalleles  major  minor      maf strandBias  mafBalance   poisson  \\\n",
       "2030         2      A      G  0.02776   0.071941           1  0.000010   \n",
       "2074         0      A      G  0.01217   0.117508           1  0.000015   \n",
       "\n",
       "      family  tissue  member  \n",
       "2030    M490   cheek  mother  \n",
       "2074    M490   cheek  mother  \n",
       "\n",
       "[2 rows x 22 columns]"
      ]
     },
     "execution_count": 39,
     "metadata": {},
     "output_type": "execute_result"
    }
   ],
   "source": [
    "hq_sites.head(2)"
   ]
  },
  {
   "cell_type": "code",
   "execution_count": 40,
   "metadata": {
    "collapsed": false
   },
   "outputs": [
    {
     "data": {
      "text/plain": [
       "98"
      ]
     },
     "execution_count": 40,
     "metadata": {},
     "output_type": "execute_result"
    }
   ],
   "source": [
    "# Now we can extract the unique quartets by selecting the \"family\" and \"position\" columns\n",
    "\n",
    "unique_quartets = hq_sites[[\"family\",\"position\"]].drop_duplicates()\n",
    "len(unique_quartets)"
   ]
  },
  {
   "cell_type": "code",
   "execution_count": 41,
   "metadata": {
    "collapsed": false
   },
   "outputs": [
    {
     "data": {
      "text/html": [
       "<div>\n",
       "<table border=\"1\" class=\"dataframe\">\n",
       "  <thead>\n",
       "    <tr style=\"text-align: right;\">\n",
       "      <th></th>\n",
       "      <th>family</th>\n",
       "      <th>position</th>\n",
       "    </tr>\n",
       "  </thead>\n",
       "  <tbody>\n",
       "    <tr>\n",
       "      <th>2030</th>\n",
       "      <td>M490</td>\n",
       "      <td>185</td>\n",
       "    </tr>\n",
       "    <tr>\n",
       "      <th>2074</th>\n",
       "      <td>M490</td>\n",
       "      <td>189</td>\n",
       "    </tr>\n",
       "  </tbody>\n",
       "</table>\n",
       "</div>"
      ],
      "text/plain": [
       "     family  position\n",
       "2030   M490       185\n",
       "2074   M490       189"
      ]
     },
     "execution_count": 41,
     "metadata": {},
     "output_type": "execute_result"
    }
   ],
   "source": [
    "unique_quartets.head(2)"
   ]
  },
  {
   "cell_type": "code",
   "execution_count": 42,
   "metadata": {
    "collapsed": false
   },
   "outputs": [],
   "source": [
    "# For each family_id/position combination, \n",
    "# retrieve the information for all 4 members of the quartets\n",
    "# from the original data dataframe\n",
    "\n",
    "def getQuartets(hqsite):\n",
    "    position = hqsite['position']\n",
    "    familyid = hqsite['family']\n",
    "    allmembers = [s for s in df['sample'].drop_duplicates() if s.startswith(familyid)]\n",
    "    mother = min([len(x) for x in allmembers])\n",
    "    child = max([len(x) for x in allmembers])\n",
    "    if len(allmembers)==4:\n",
    "\n",
    "        for member in allmembers:\n",
    "            if len(member)==mother and member.endswith(\"-ch\"):\n",
    "                motherCheek = df[(df['sample']==member) & (df['position']==position)][['major','minor','maf']].squeeze()\n",
    "\n",
    "            elif len(member)==mother and member.endswith(\"-bl\"):\n",
    "                motherBlood = df[(df['sample']==member) & (df['position']==position)][['major','minor','maf']].squeeze()\n",
    "\n",
    "            elif len(member)==child and member.endswith(\"-ch\"):\n",
    "                childCheek = df[(df['sample']==member) & (df['position']==position)][['major','minor','maf']].squeeze()\n",
    "\n",
    "            else:\n",
    "                childBlood = df[(df['sample']==member) & (df['position']==position)][['major','minor','maf']].squeeze()\n",
    "\n",
    "        return pd.Series([familyid,position]+list(motherCheek)+list(motherBlood)+list(childCheek)+list(childBlood))\n",
    "    else:\n",
    "        pass"
   ]
  },
  {
   "cell_type": "code",
   "execution_count": 43,
   "metadata": {
    "collapsed": false
   },
   "outputs": [],
   "source": [
    "# Apply getQuartets to data\n",
    "\n",
    "quartets = unique_quartets.apply(getQuartets,axis=1)"
   ]
  },
  {
   "cell_type": "code",
   "execution_count": 44,
   "metadata": {
    "collapsed": false
   },
   "outputs": [],
   "source": [
    "# Set column names\n",
    "# mc: mother cheek\n",
    "# mb: mother blood\n",
    "# cc: child cheek\n",
    "# cb: child blood\n",
    "\n",
    "quartets.columns = [\"family\",\"position\",\"mcMajor\",\"mcMinor\",\"mcMAF\",\"mbMajor\",\"mbMinor\",\"mbMAF\",\n",
    "                    \"ccMajor\",\"ccMinor\",\"ccMAF\",\"cbMajor\",\"cbMinor\",\"cbMAF\"]"
   ]
  },
  {
   "cell_type": "code",
   "execution_count": 45,
   "metadata": {
    "collapsed": false
   },
   "outputs": [
    {
     "data": {
      "text/html": [
       "<div>\n",
       "<table border=\"1\" class=\"dataframe\">\n",
       "  <thead>\n",
       "    <tr style=\"text-align: right;\">\n",
       "      <th></th>\n",
       "      <th>family</th>\n",
       "      <th>position</th>\n",
       "      <th>mcMajor</th>\n",
       "      <th>mcMinor</th>\n",
       "      <th>mcMAF</th>\n",
       "      <th>mbMajor</th>\n",
       "      <th>mbMinor</th>\n",
       "      <th>mbMAF</th>\n",
       "      <th>ccMajor</th>\n",
       "      <th>ccMinor</th>\n",
       "      <th>ccMAF</th>\n",
       "      <th>cbMajor</th>\n",
       "      <th>cbMinor</th>\n",
       "      <th>cbMAF</th>\n",
       "    </tr>\n",
       "  </thead>\n",
       "  <tbody>\n",
       "    <tr>\n",
       "      <th>2030</th>\n",
       "      <td>M490</td>\n",
       "      <td>185</td>\n",
       "      <td>A</td>\n",
       "      <td>G</td>\n",
       "      <td>0.02776</td>\n",
       "      <td>A</td>\n",
       "      <td>G</td>\n",
       "      <td>0.00658</td>\n",
       "      <td>A</td>\n",
       "      <td>G</td>\n",
       "      <td>0.00393</td>\n",
       "      <td>A</td>\n",
       "      <td>G</td>\n",
       "      <td>0.00128</td>\n",
       "    </tr>\n",
       "    <tr>\n",
       "      <th>2074</th>\n",
       "      <td>M490</td>\n",
       "      <td>189</td>\n",
       "      <td>A</td>\n",
       "      <td>G</td>\n",
       "      <td>0.01217</td>\n",
       "      <td>A</td>\n",
       "      <td>G</td>\n",
       "      <td>0.00370</td>\n",
       "      <td>A</td>\n",
       "      <td>G</td>\n",
       "      <td>0.00208</td>\n",
       "      <td>A</td>\n",
       "      <td>G</td>\n",
       "      <td>0.00091</td>\n",
       "    </tr>\n",
       "  </tbody>\n",
       "</table>\n",
       "</div>"
      ],
      "text/plain": [
       "     family  position mcMajor mcMinor    mcMAF mbMajor mbMinor    mbMAF  \\\n",
       "2030   M490       185       A       G  0.02776       A       G  0.00658   \n",
       "2074   M490       189       A       G  0.01217       A       G  0.00370   \n",
       "\n",
       "     ccMajor ccMinor    ccMAF cbMajor cbMinor    cbMAF  \n",
       "2030       A       G  0.00393       A       G  0.00128  \n",
       "2074       A       G  0.00208       A       G  0.00091  "
      ]
     },
     "execution_count": 45,
     "metadata": {},
     "output_type": "execute_result"
    }
   ],
   "source": [
    "quartets.head(2)"
   ]
  },
  {
   "cell_type": "markdown",
   "metadata": {},
   "source": [
    "We can add even more information to the quartets table. For instance, the impact of the alternative allele and the nucleotide change class:"
   ]
  },
  {
   "cell_type": "code",
   "execution_count": 46,
   "metadata": {
    "collapsed": false
   },
   "outputs": [],
   "source": [
    "# Define function for generating protein translation\n",
    "\n",
    "def translate(sequence,gene):\n",
    "    if len(str(sequence))%3!=0:\n",
    "        add=3 - (len(str(sequence))%3)\n",
    "    else:\n",
    "        add=0\n",
    "\n",
    "    if genedb[gene][\"strand\"]==1:\n",
    "        modseq=str(sequence)+add*'A'        \n",
    "    else:\n",
    "        modseq=str(sequence.reverse_complement())+add*'A'\n",
    "\n",
    "    try:\n",
    "        translation=str(Seq(modseq,IUPAC.unambiguous_dna).translate(table=2,cds=True))\n",
    "    except:\n",
    "        translation=[]\n",
    "\n",
    "    return translation"
   ]
  },
  {
   "cell_type": "code",
   "execution_count": 47,
   "metadata": {
    "collapsed": false
   },
   "outputs": [],
   "source": [
    "# Define function for estimating evolutionary impact\n",
    "# The function determines if a heteroplamic site\n",
    "# synonymous/non-synonomous and if the change is transitional or transversional \n",
    "\n",
    "def evoImpact(quartet):\n",
    "    het,major,minor = quartet\n",
    "    pos  = int(het)-1\n",
    "    gene = [g for g in genedb if genedb[g]['end']>=pos>=genedb[g]['start']][0]\n",
    "\n",
    "    if gene in [feature.qualifiers['gene'][0] for feature in rCRS.features if feature.type==\"CDS\"]:\n",
    "\n",
    "        majorseq = rCRS.seq.tomutable()\n",
    "        minorseq = rCRS.seq.tomutable()\n",
    "        majorseq[pos] = major\n",
    "        minorseq[pos] = minor\n",
    "        ref_seq = rCRS.seq[genedb[gene][\"start\"]:genedb[gene][\"end\"]]\n",
    "        major_seq = majorseq[genedb[gene][\"start\"]:genedb[gene][\"end\"]]\n",
    "        minor_seq = minorseq[genedb[gene][\"start\"]:genedb[gene][\"end\"]]\n",
    "\n",
    "        if (translate(ref_seq,gene)==translate(minor_seq,gene)):\n",
    "            ptimpact = \"syn\"\n",
    "        else:\n",
    "            ptimpact = \"nonsyn\"\n",
    "    else:\n",
    "        ptimpact = \"-\"\n",
    "\n",
    "    ntClass={'pu':['A','G'],'py':['C','T']}\n",
    "    majorClass=[k for k,v in ntClass.iteritems() if major in v]\n",
    "    minorClass=[k for k,v in ntClass.iteritems() if minor in v]\n",
    "    if majorClass==minorClass:\n",
    "        ntimpact='ts'\n",
    "    else:\n",
    "        ntimpact='tv'\n",
    "\n",
    "\n",
    "    return pd.Series([ptimpact,genedb[gene]['class'],ntimpact])"
   ]
  },
  {
   "cell_type": "code",
   "execution_count": 48,
   "metadata": {
    "collapsed": false
   },
   "outputs": [],
   "source": [
    "# Using BioPython rCRS object defined in cell 10\n",
    "# Parse mitochondrial genome features\n",
    "\n",
    "genedb = dict()\n",
    "labs = [\"class\",\"start\",\"end\",\"strand\"]\n",
    "for feature in rCRS.features:\n",
    "    if feature.type in [\"rRNA\",\"tRNA\",\"CDS\"]:\n",
    "        ftype = feature.type\n",
    "        name = feature.qualifiers['gene'][0]\n",
    "        start = int(feature.location.start)\n",
    "        end = int(feature.location.end)\n",
    "        strand = int(feature.location.strand)\n",
    "        genedb[name] = dict(zip(labs,[ftype,start,end,strand]))\n",
    "genedb['D-loop1'] = dict(zip(labs,[\"Dloop\",0,576,1]))\n",
    "genedb['D-loop2'] = dict(zip(labs,[\"Dloop\",16023,16569,1]))"
   ]
  },
  {
   "cell_type": "code",
   "execution_count": 49,
   "metadata": {
    "collapsed": false
   },
   "outputs": [],
   "source": [
    "# We set the ancestral state to the alleles found in the mother's blood sample.\n",
    "\n",
    "quartets[[\"ptchange\",\"class\",\"ntchange\"]] = quartets[['position','mbMajor','mbMinor']].apply(evoImpact,axis=1)"
   ]
  },
  {
   "cell_type": "markdown",
   "metadata": {},
   "source": [
    "Finalized quartets table:"
   ]
  },
  {
   "cell_type": "code",
   "execution_count": 50,
   "metadata": {
    "collapsed": false
   },
   "outputs": [
    {
     "data": {
      "text/html": [
       "<div>\n",
       "<table border=\"1\" class=\"dataframe\">\n",
       "  <thead>\n",
       "    <tr style=\"text-align: right;\">\n",
       "      <th></th>\n",
       "      <th>family</th>\n",
       "      <th>position</th>\n",
       "      <th>mcMajor</th>\n",
       "      <th>mcMinor</th>\n",
       "      <th>mcMAF</th>\n",
       "      <th>mbMajor</th>\n",
       "      <th>mbMinor</th>\n",
       "      <th>mbMAF</th>\n",
       "      <th>ccMajor</th>\n",
       "      <th>ccMinor</th>\n",
       "      <th>ccMAF</th>\n",
       "      <th>cbMajor</th>\n",
       "      <th>cbMinor</th>\n",
       "      <th>cbMAF</th>\n",
       "      <th>ptchange</th>\n",
       "      <th>class</th>\n",
       "      <th>ntchange</th>\n",
       "    </tr>\n",
       "  </thead>\n",
       "  <tbody>\n",
       "    <tr>\n",
       "      <th>2030</th>\n",
       "      <td>M490</td>\n",
       "      <td>185</td>\n",
       "      <td>A</td>\n",
       "      <td>G</td>\n",
       "      <td>0.02776</td>\n",
       "      <td>A</td>\n",
       "      <td>G</td>\n",
       "      <td>0.00658</td>\n",
       "      <td>A</td>\n",
       "      <td>G</td>\n",
       "      <td>0.00393</td>\n",
       "      <td>A</td>\n",
       "      <td>G</td>\n",
       "      <td>0.00128</td>\n",
       "      <td>-</td>\n",
       "      <td>Dloop</td>\n",
       "      <td>ts</td>\n",
       "    </tr>\n",
       "    <tr>\n",
       "      <th>2074</th>\n",
       "      <td>M490</td>\n",
       "      <td>189</td>\n",
       "      <td>A</td>\n",
       "      <td>G</td>\n",
       "      <td>0.01217</td>\n",
       "      <td>A</td>\n",
       "      <td>G</td>\n",
       "      <td>0.00370</td>\n",
       "      <td>A</td>\n",
       "      <td>G</td>\n",
       "      <td>0.00208</td>\n",
       "      <td>A</td>\n",
       "      <td>G</td>\n",
       "      <td>0.00091</td>\n",
       "      <td>-</td>\n",
       "      <td>Dloop</td>\n",
       "      <td>ts</td>\n",
       "    </tr>\n",
       "  </tbody>\n",
       "</table>\n",
       "</div>"
      ],
      "text/plain": [
       "     family  position mcMajor mcMinor    mcMAF mbMajor mbMinor    mbMAF  \\\n",
       "2030   M490       185       A       G  0.02776       A       G  0.00658   \n",
       "2074   M490       189       A       G  0.01217       A       G  0.00370   \n",
       "\n",
       "     ccMajor ccMinor    ccMAF cbMajor cbMinor    cbMAF ptchange  class  \\\n",
       "2030       A       G  0.00393       A       G  0.00128        -  Dloop   \n",
       "2074       A       G  0.00208       A       G  0.00091        -  Dloop   \n",
       "\n",
       "     ntchange  \n",
       "2030       ts  \n",
       "2074       ts  "
      ]
     },
     "execution_count": 50,
     "metadata": {},
     "output_type": "execute_result"
    }
   ],
   "source": [
    "quartets.head(2)"
   ]
  },
  {
   "cell_type": "markdown",
   "metadata": {},
   "source": [
    "## Plot the number of heteroplasmic sites per individual or family (Fig. S11)"
   ]
  },
  {
   "cell_type": "code",
   "execution_count": 51,
   "metadata": {
    "collapsed": false
   },
   "outputs": [],
   "source": [
    "# Since we modified the hq_sites dataframe, we have to reload it in R\n",
    "\n",
    "%R -i hq_sites,quartets"
   ]
  },
  {
   "cell_type": "code",
   "execution_count": 52,
   "metadata": {
    "collapsed": false
   },
   "outputs": [
    {
     "data": {
      "text/plain": [
       "      sample reference position    A C  G T    a c  g t cvrg nalleles major\n",
       "2030 M490-ch      chrM      185 2663 0 73 0 3116 0 92 0 5944        2     A\n",
       "2074 M490-ch      chrM      189 2519 2 29 0 3159 0 41 0 5750        0     A\n",
       "     minor     maf strandBias mafBalance      poisson family tissue member\n",
       "2030     G 0.02776 0.07194105          1 1.010608e-05   M490  cheek mother\n",
       "2074     G 0.01217 0.11750754          1 1.546148e-05   M490  cheek mother\n"
      ]
     },
     "metadata": {},
     "output_type": "display_data"
    }
   ],
   "source": [
    "%%R\n",
    "\n",
    "# Adjust value types in the hq_sites dataframe\n",
    "tonumeric = c(3:13,16:18)\n",
    "hq_sites[,tonumeric] = apply(hq_sites[,tonumeric], 2, function(x) as.numeric(as.character(x)))\n",
    "head(hq_sites,2)"
   ]
  },
  {
   "cell_type": "code",
   "execution_count": 53,
   "metadata": {
    "collapsed": false
   },
   "outputs": [],
   "source": [
    "%%R\n",
    "\n",
    "# Frequency (number of sites per individual)\n",
    "\n",
    "getFreq = function(data,tissue,member) {\n",
    "    \n",
    "    siteFreq = data.frame(table(table(as.character(data[(data[[\"tissue\"]]==tissue) & (data[[\"member\"]]==member),1]))))\n",
    "    siteFreq = unlist(apply(siteFreq,1,FUN=function(x) rep(x[1],x[2])))\n",
    "    siteFreq = as.numeric(c(rep(0,39-length(siteFreq)),siteFreq))\n",
    "        \n",
    "    return(siteFreq)\n",
    "        }"
   ]
  },
  {
   "cell_type": "code",
   "execution_count": 54,
   "metadata": {
    "collapsed": false
   },
   "outputs": [],
   "source": [
    "%%R\n",
    "\n",
    "\n",
    "# Size of circles\n",
    "\n",
    "symbolPlot = function(data,pos) {\n",
    "    \n",
    "    symbols(rep(pos,length(unique(data))),\n",
    "            sort(unique(data)),circles=(data.frame(table(data))$Freq)*0.01,\n",
    "            add=T,inches=F,bg=\"black\")\n",
    "}"
   ]
  },
  {
   "cell_type": "code",
   "execution_count": 55,
   "metadata": {
    "collapsed": false
   },
   "outputs": [],
   "source": [
    "%%R\n",
    "\n",
    "# Backbone boxplot\n",
    "\n",
    "boxPlotNsites = function(data,pos,addOpt=\"False\"){                    \n",
    "    boxplot(data,ylim=c(-2,maxSites),frame=F,axes=F,xlim=c(1,7),at=pos,col=rgb(0,0,0,0),\n",
    "            boxlwd=2,boxcol=\"coral3\",medcol=\"coral3\",whisklty=\"solid\",whiskcol=\"coral3\",\n",
    "            staplecol=\"coral3\",add=as.logical(addOpt),outline=F)\n",
    "\n",
    "}"
   ]
  },
  {
   "cell_type": "code",
   "execution_count": 56,
   "metadata": {
    "collapsed": false
   },
   "outputs": [
    {
     "data": {
      "image/png": "[encoded data removed]"
     },
     "metadata": {},
     "output_type": "display_data"
    }
   ],
   "source": [
    "%%R -w 11 -h 8 -u in -r 72\n",
    "\n",
    "mc = getFreq(hq_sites,\"cheek\",\"mother\")\n",
    "mb = getFreq(hq_sites,\"blood\",\"mother\")\n",
    "cc = getFreq(hq_sites,\"cheek\",\"child\")\n",
    "cb = getFreq(hq_sites,\"blood\",\"child\")\n",
    "\n",
    "fam = data.frame(table(table(quartets[[\"family\"]])))\n",
    "fam = unlist(apply(fam,1,FUN=function(x) rep(as.numeric(x[1]),x[2])))\n",
    "fam = as.numeric(c(rep(0,39-length(fam)),fam))\n",
    "                            \n",
    "maxSites = max(c(mc,mb,cc,cb,fam))\n",
    "par(mar=c(2,2,2,1))\n",
    "par(oma=c(0,0,0,0))                           \n",
    "\n",
    "plot(1:7,1:7,type=\"n\",ylim=c(-2,maxSites),frame=F,axes=F)\n",
    "\n",
    "symbolPlot(mc,2)\n",
    "symbolPlot(mb,3)\n",
    "symbolPlot(cc,4)\n",
    "symbolPlot(cb,5)\n",
    "symbolPlot(fam,6) \n",
    "\n",
    "Lab = c(\"Maternal \\ncheek\",\"Maternal \\nblood\",\"Child \\ncheek\",\"Child \\nblood\",\"Family\")\n",
    "    \n",
    "axis(1,at=2:6,lab=Lab,pos=-1.5,las=1,cex.axis=0.8,tck=-0.01)\n",
    "axis(2,at=0:maxSites,lab=0:maxSites,pos=1,las=2,cex.axis=0.8)\n",
    "mtext(\"Number of point heteroplasmies\",2,1,cex=0.8,adj=0.7)\n",
    "\n",
    "      \n",
    "par(new=T)\n",
    "boxPlotNsites(mc,2)\n",
    "boxPlotNsites(mb,3,\"True\")\n",
    "boxPlotNsites(cc,4,\"True\")\n",
    "boxPlotNsites(cb,5,\"True\")\n",
    "boxPlotNsites(fam,6,\"True\") "
   ]
  },
  {
   "cell_type": "markdown",
   "metadata": {},
   "source": [
    "## Plot distribution of high quality heteroplasmies (Fig. S10)"
   ]
  },
  {
   "cell_type": "code",
   "execution_count": 57,
   "metadata": {
    "collapsed": false
   },
   "outputs": [
    {
     "data": {
      "text/plain": [
       "      family position mcMajor mcMinor   mcMAF mbMajor mbMinor   mbMAF ccMajor\n",
       "2030    M490      185       A       G 0.02776       A       G 0.00658       A\n",
       "2074    M490      189       A       G 0.01217       A       G 0.00370       A\n",
       "2196    M520      200       G       A 0.02581       G       A 0.01716       G\n",
       "13311   M480     1211       G       A 0.02724       G       A 0.01064       G\n",
       "15293   M513     1391       T       C 0.03968       T       C 0.02697       T\n",
       "28383   M513     2581       A       G 0.01762       A       G 0.00043       A\n",
       "      ccMinor   ccMAF cbMajor cbMinor   cbMAF ptchange class ntchange id\n",
       "2030        G 0.00393       A       G 0.00128        - Dloop       ts 22\n",
       "2074        G 0.00208       A       G 0.00091        - Dloop       ts 22\n",
       "2196        A 0.00497       G       A 0.00156        - Dloop       ts 28\n",
       "13311       A 0.00021       G       . 0.00000        -  rRNA       ts 21\n",
       "15293       C 0.00111       T       C 0.00047        -  rRNA       ts 27\n",
       "28383       G 0.00081       A       G 0.00027        -  rRNA       ts 27\n"
      ]
     },
     "metadata": {},
     "output_type": "display_data"
    }
   ],
   "source": [
    "%%R\n",
    "\n",
    "data = quartets\n",
    "uniqueFamilies = sort(unique(as.character(data$family)))\n",
    "faid = cbind(1:length(uniqueFamilies),uniqueFamilies)\n",
    "\n",
    "plotid=c()\n",
    "for (s in as.character(data$family)){\n",
    "    plotid=c(plotid,faid[faid[,2]==s,1])\n",
    "}\n",
    "data$id = as.numeric(plotid)\n",
    "data$position = as.numeric(as.character(data$position))\n",
    "head(data)"
   ]
  },
  {
   "cell_type": "code",
   "execution_count": 58,
   "metadata": {
    "collapsed": false
   },
   "outputs": [],
   "source": [
    "%%R\n",
    "\n",
    "# Define colors for each mitochondrial genome features\n",
    "\n",
    "alp  =200\n",
    "trna =\"blue\"\n",
    "rrna =\"lightseagreen\"\n",
    "prot =\"orange\"\n",
    "dloop=\"red\"\n",
    "\n",
    "colors=c()\n",
    "for (c in data[[\"class\"]]) if (c==\"Dloop\") {\n",
    "    colors=c(colors,dloop)\n",
    "    } else if (c==\"tRNA\") {\n",
    "        colors=c(colors,trna)\n",
    "    } else if (c==\"rRNA\") {\n",
    "        colors=c(colors,rrna)\n",
    "    } else {\n",
    "    colors=c(colors,prot)\n",
    "}\n",
    "data$colors=colors"
   ]
  },
  {
   "cell_type": "code",
   "execution_count": 59,
   "metadata": {
    "collapsed": false
   },
   "outputs": [],
   "source": [
    "%%R\n",
    "\n",
    "# Define symbols depending on whether a site is syn/nonsyn or ts/tv\n",
    "\n",
    "symbol=c()\n",
    "for (i in 1:nrow(data)){\n",
    "    if (data[[\"ntchange\"]][i]==\"tv\" & data[[\"ptchange\"]][i]==\"nonsyn\") {symbol=c(symbol,17)\n",
    "    } else if (data[[\"ntchange\"]][i]==\"tv\" & data[[\"ptchange\"]][i]!=\"nonsyn\") {symbol=c(symbol,2)\n",
    "    } else if (data[[\"ptchange\"]][i]==\"syn\") {\n",
    "          symbol=c(symbol,16)\n",
    "    } else {\n",
    "          symbol=c(symbol,1)}\n",
    "    }\n",
    "data$symbol=symbol"
   ]
  },
  {
   "cell_type": "code",
   "execution_count": 60,
   "metadata": {
    "collapsed": false
   },
   "outputs": [
    {
     "data": {
      "image/png": "[encoded data removed]"
     },
     "metadata": {},
     "output_type": "display_data"
    }
   ],
   "source": [
    "%%R -w 5 -h 4 -u in -r 144\n",
    "\n",
    "# Plot area\n",
    "par(mar=c(2,2,2,1))\n",
    "par(oma=c(0,0,0,0))\n",
    "par(las=2)\n",
    "plot(data$position,data$id*5+5,xlim=c(1,16569), ylim=c(-80,170),frame=\"False\",ylab=\"\",axes=F, xlab=\"\",type=\"n\")\n",
    "\n",
    "# Grid\n",
    "for (i in data$id) {segments(1,i*5+5,16569,i*5+5,col=\"grey90\")}\n",
    "for (i in c(1,seq(500,16500,500))) {segments(i,5,i,162,col=\"grey90\")}\n",
    "for (i in seq(500,16500,1000)) {text(i,163,lab=i,col=\"black\",cex=0.25)}\n",
    "mtext(\"Family\",3,-1.2,las=1,adj=-0.07,cex=0.5)\n",
    "mtext(\"coord:\",3,-1.35,las=1,adj=0.01,cex=0.3)\n",
    "\n",
    "# Actual plot\n",
    "points(data$position,data$id*5+5,xlim=c(1,16569), ylim=c(-80,170),pch=data$symbol,ylab=\"\",col=data$colors, xlab=\"\")\n",
    "\n",
    "# Axes\n",
    "abline(h=5)\n",
    "lab=unique(data[,c(1,18)])\n",
    "axis(2,pos=-500,at=sort(unique(data$id*5+5)),labels=lab[order(lab$id),][,1],cex.axis=0.4)\n",
    "\n",
    "# Legend\n",
    "legend(1,180,legend=c(\"D-loop\",\"tRNA\",\"rRNA\",\"cds-syn\",\"cds-nonSyn\",\"transversion\"),\n",
    "       fill=c(NA,NA,NA,NA,NA,NA),border=c(rep(\"white\",4),NA,NA),pch=c(1,1,1,1,16,2),\n",
    "       col=c(dloop,trna,rrna,prot,prot,\"black\"),cex=0.5,bty=\"n\",pt.cex=0.7,horiz=T,\n",
    "       x.intersp=c(0.7,0.7,0.7,0.7,0.7,1),text.width=1350)\n",
    "\n",
    "\n",
    "# mtDNA genes\n",
    "\n",
    "Arrows(1,0,576,0,arr.length=0.05,arr.type='simple')\n",
    "text(576,0,labels='DLOOP',cex=0.5,pos=4)\n",
    "Arrows(576,-5,647,-5,arr.length=0.05,arr.type='simple')\n",
    "text(647,-5,labels='TRNF',cex=0.5,pos=4)\n",
    "Arrows(647,-10,1601,-10,arr.length=0.05,arr.type='simple')\n",
    "text(1601,-10,labels='RNR1',cex=0.5,pos=4)\n",
    "Arrows(1601,-15,1670,-15,arr.length=0.05,arr.type='simple')\n",
    "text(1670,-15,labels='TRNV',cex=0.5,pos=4)\n",
    "Arrows(1670,-20,3229,-20,arr.length=0.05,arr.type='simple')\n",
    "text(3229,-20,labels='RNR2',cex=0.5,pos=4)\n",
    "Arrows(3229,-25,3304,-25,arr.length=0.05,arr.type='simple')\n",
    "text(3304,-25,labels='TRNL1',cex=0.5,pos=4)\n",
    "Arrows(3306,-30,4262,-30,arr.length=0.05,arr.type='simple')\n",
    "text(4262,-30,labels='ND1',cex=0.5,pos=4)\n",
    "Arrows(4262,-35,4331,-35,arr.length=0.05,arr.type='simple')\n",
    "text(4331,-35,labels='TRNI',cex=0.5,pos=4)\n",
    "Arrows(4328,-40,4400,-40,arr.length=0.05,code=1,arr.type='simple')\n",
    "text(4400,-40,labels='TRNQ',cex=0.5,pos=4)\n",
    "Arrows(4401,-45,4469,-45,arr.length=0.05,arr.type='simple')\n",
    "text(4469,-45,labels='TRNM',cex=0.5,pos=4)\n",
    "Arrows(4469,-50,5511,-50,arr.length=0.05,arr.type='simple')\n",
    "text(5511,-50,labels='ND2',cex=0.5,pos=4)\n",
    "Arrows(5511,-55,5579,-55,arr.length=0.05,arr.type='simple')\n",
    "text(5579,-55,labels='TRNW',cex=0.5,pos=4)\n",
    "Arrows(5586,-60,5655,-60,arr.length=0.05,code=1,arr.type='simple')\n",
    "text(5655,-60,labels='TRNA',cex=0.5,pos=4)\n",
    "Arrows(5656,-65,5729,-65,arr.length=0.05,code=1,arr.type='simple')\n",
    "text(5729,-65,labels='TRNN',cex=0.5,pos=4)\n",
    "Arrows(5760,-70,5826,-70,arr.length=0.05,code=1,arr.type='simple')\n",
    "text(5826,-70,labels='TRNC',cex=0.5,pos=4)\n",
    "Arrows(5825,-75,5891,-75,arr.length=0.05,code=1,arr.type='simple')\n",
    "text(5891,-75,labels='TRNY',cex=0.5,pos=4)\n",
    "Arrows(5903,-5,7445,-5,arr.length=0.05,arr.type='simple')\n",
    "text(7445,-5,labels='COX1',cex=0.5,pos=4)\n",
    "Arrows(7445,-10,7514,-10,arr.length=0.05,code=1,arr.type='simple')\n",
    "text(7514,-10,labels='TRNS1',cex=0.5,pos=4)\n",
    "Arrows(7517,-15,7585,-15,arr.length=0.05,arr.type='simple')\n",
    "text(7585,-15,labels='TRND',cex=0.5,pos=4)\n",
    "Arrows(7585,-20,8269,-20,arr.length=0.05,arr.type='simple')\n",
    "text(8269,-20,labels='COX2',cex=0.5,pos=4)\n",
    "Arrows(8294,-25,8364,-25,arr.length=0.05,arr.type='simple')\n",
    "text(8364,-25,labels='TRNK',cex=0.5,pos=4)\n",
    "Arrows(8365,-30,8572,-30,arr.length=0.05,arr.type='simple')\n",
    "text(8572,-30,labels='ATP8',cex=0.5,pos=4)\n",
    "Arrows(8526,-35,9207,-35,arr.length=0.05,arr.type='simple')\n",
    "text(9207,-35,labels='ATP6',cex=0.5,pos=4)\n",
    "Arrows(9206,-40,9990,-40,arr.length=0.05,arr.type='simple')\n",
    "text(9990,-40,labels='COX3',cex=0.5,pos=4)\n",
    "Arrows(9990,-45,10058,-45,arr.length=0.05,arr.type='simple')\n",
    "text(10058,-45,labels='TRNG',cex=0.5,pos=4)\n",
    "Arrows(10058,-50,10404,-50,arr.length=0.05,arr.type='simple')\n",
    "text(10404,-50,labels='ND3',cex=0.5,pos=4)\n",
    "Arrows(10404,-55,10469,-55,arr.length=0.05,arr.type='simple')\n",
    "text(10469,-55,labels='TRNR',cex=0.5,pos=4)\n",
    "Arrows(10469,-5,10766,-5,arr.length=0.05,arr.type='simple')\n",
    "text(10766,-5,labels='ND4L',cex=0.5,pos=4)\n",
    "Arrows(10759,-10,12137,-10,arr.length=0.05,arr.type='simple')\n",
    "text(12137,-10,labels='ND4',cex=0.5,pos=4)\n",
    "Arrows(12137,-15,12206,-15,arr.length=0.05,arr.type='simple')\n",
    "text(12206,-15,labels='TRNH',cex=0.5,pos=4)\n",
    "Arrows(12206,-20,12265,-20,arr.length=0.05,arr.type='simple')\n",
    "text(12265,-20,labels='TRNS2',cex=0.5,pos=4)\n",
    "Arrows(12265,-25,12336,-25,arr.length=0.05,arr.type='simple')\n",
    "text(12336,-25,labels='TRNL2',cex=0.5,pos=4)\n",
    "Arrows(12336,-30,14148,-30,arr.length=0.05,arr.type='simple')\n",
    "text(14148,-30,labels='ND5',cex=0.5,pos=4)\n",
    "Arrows(14148,-35,14673,-35,arr.length=0.05,code=1,arr.type='simple')\n",
    "text(14673,-35,labels='ND6',cex=0.5,pos=4)\n",
    "Arrows(14673,-40,14742,-40,arr.length=0.05,code=1,arr.type='simple')\n",
    "text(14742,-40,labels='TRNE',cex=0.5,pos=4)\n",
    "Arrows(14746,-45,15887,-45,arr.length=0.05,arr.type='simple')\n",
    "text(15887,-45,labels='CYTB',cex=0.5,pos=4)\n",
    "Arrows(15887,-50,15953,-50,arr.length=0.05,arr.type='simple')\n",
    "text(15953,-50,labels='TRNT',cex=0.5,pos=4)\n",
    "Arrows(15955,-55,16023,-55,arr.length=0.05,code=1,arr.type='simple')\n",
    "text(16023,-55,labels='TRNP',cex=0.5,pos=4)\n",
    "Arrows(16024,0,16569,0,arr.length=0.05,arr.type='simple')\n",
    "text(16024,0,labels='DLOOP',cex=0.5,pos=2)"
   ]
  },
  {
   "cell_type": "markdown",
   "metadata": {},
   "source": [
    "## Plot correlations in minor allele frequencies (Fig. 1)"
   ]
  },
  {
   "cell_type": "code",
   "execution_count": 61,
   "metadata": {
    "collapsed": false
   },
   "outputs": [
    {
     "data": {
      "text/plain": [
       "        family position mcMajor mcMinor   mcMAF mbMajor mbMinor   mbMAF ccMajor\n",
       "13311     M480     1211       G       A 0.02724       G       A 0.01064       G\n",
       "184184    M190      215       A       G 0.08341       A       G 0.00105       A\n",
       "228194    M190     5105       T       C 0.02582       T       C 0.06139       T\n",
       "265016    M494     9196       G       A 0.03235       G       A 0.02953       G\n",
       "571927    M236    14573       A       G 0.30283       A       G 0.28679       A\n",
       "578914    M137    16320       C       T 0.26072       C       T 0.05094       C\n",
       "1017473   M240    11668       C       T 0.00045       C       T 0.00030       C\n",
       "1027788   M132       64       C       T 0.00193       C       T 0.00008       C\n",
       "1606252   M137     8953       A       G 0.00045       A       G 0.01268       A\n",
       "1660867   M137    13918       T       C 0.00128       T       C 0.01556       T\n",
       "2088521    SC8     7607       G       A 0.00725       G       A 0.01066       G\n",
       "2217305   M207     2746       T       C 0.19870       T       C 0.22640       T\n",
       "        ccMinor   ccMAF cbMajor cbMinor   cbMAF ptchange class ntchange\n",
       "13311         A 0.00021       G       . 0.00000        -  rRNA       ts\n",
       "184184        G 0.00195       A       . 0.00000        - Dloop       ts\n",
       "228194        C 0.00109       T       . 0.00000      syn   CDS       ts\n",
       "265016        A 0.00011       G       T 0.00011   nonsyn   CDS       ts\n",
       "571927        . 0.00000       A       G 0.00015   nonsyn   CDS       ts\n",
       "578914        . 0.00000       C       T 0.00053        - Dloop       ts\n",
       "1017473       T 0.01817       C       . 0.00000      syn   CDS       ts\n",
       "1027788       T 0.01127       C       . 0.00000        - Dloop       ts\n",
       "1606252       T 0.00027       A       G 0.00007   nonsyn   CDS       ts\n",
       "1660867       . 0.00000       T       A 0.00019   nonsyn   CDS       ts\n",
       "2088521       . 0.00000       G       A 0.00014   nonsyn   CDS       ts\n",
       "2217305       A 0.00029       T       C 0.00026        -  rRNA       ts\n"
      ]
     },
     "metadata": {},
     "output_type": "display_data"
    }
   ],
   "source": [
    "%%R\n",
    "#head(quartets,3)\n",
    "quartets[as.character(quartets$cbMinor)!=as.character(quartets$ccMinor),]"
   ]
  },
  {
   "cell_type": "markdown",
   "metadata": {},
   "source": [
    "There are a few cases of reversal of mninor allele frequencies between two tissues of the same individual, or between a mother and her child. Consequently, it is necessary to fix the \"ancestral\" allele, and we arbitrarily decided to use the maternal blood as the ancestral state."
   ]
  },
  {
   "cell_type": "code",
   "execution_count": 62,
   "metadata": {
    "collapsed": false
   },
   "outputs": [],
   "source": [
    "%%R\n",
    "\n",
    "\n",
    "# mb = maternal blood\n",
    "# mc = maternal cheek\n",
    "# cb = child blood\n",
    "# cc = child cheek\n",
    "\n",
    "adjustMAF = function(row){\n",
    "    \n",
    "    mbMajor = row[[\"mbMajor\"]]\n",
    "    mbMinor = row[[\"mbMinor\"]]\n",
    "    mcMajor = row[[\"mcMajor\"]]\n",
    "    mcMinor = row[[\"mcMinor\"]]\n",
    "    ccMajor = row[[\"ccMajor\"]]\n",
    "    ccMinor = row[[\"ccMinor\"]]\n",
    "    cbMajor = row[[\"cbMajor\"]]\n",
    "    cbMinor = row[[\"cbMinor\"]]\n",
    "    \n",
    "    if ((c(mbMajor,mbMinor) == c(mcMinor,mcMajor)) & (mcMinor!=\".\")){\n",
    "        mcMAFadj = 1 - as.numeric(row[[\"mcMAF\"]])\n",
    "    }else{\n",
    "        mcMAFadj = as.numeric(row[[\"mcMAF\"]])\n",
    "    }\n",
    "    \n",
    "    \n",
    "    if ((c(mbMajor,mbMinor) == c(ccMinor,ccMajor)) & (ccMinor!=\".\")){\n",
    "        ccMAFadj = 1 - as.numeric(row[[\"ccMAF\"]])\n",
    "    }else{\n",
    "        ccMAFadj = as.numeric(row[[\"ccMAF\"]])\n",
    "    }\n",
    "    \n",
    "    \n",
    "    if ((c(mbMajor,mbMinor) == c(cbMinor,cbMajor)) & (cbMinor!=\".\")){\n",
    "        cbMAFadj = 1 - as.numeric(row[[\"cbMAF\"]])\n",
    "    }else{\n",
    "        cbMAFadj = as.numeric(row[[\"cbMAF\"]])\n",
    "    }\n",
    "    \n",
    "    return(c(mcMAFadj,ccMAFadj,cbMAFadj))\n",
    "} "
   ]
  },
  {
   "cell_type": "code",
   "execution_count": 63,
   "metadata": {
    "collapsed": false
   },
   "outputs": [
    {
     "data": {
      "text/plain": [
       "          mc      cc      cb\n",
       "2030 0.02776 0.00393 0.00128\n",
       "2074 0.01217 0.00208 0.00091\n"
      ]
     },
     "metadata": {},
     "output_type": "display_data"
    }
   ],
   "source": [
    "%%R\n",
    "\n",
    "adjustedMAF = data.frame(t(apply(quartets, 1, adjustMAF)))\n",
    "colnames(adjustedMAF) = c(\"mc\",\"cc\",\"cb\")\n",
    "\n",
    "head(adjustedMAF,2)"
   ]
  },
  {
   "cell_type": "markdown",
   "metadata": {},
   "source": [
    "Due to the adjustment of MAF based on the maternal state, comparing the child tissues independently of the mother's, require an additional adjustment. "
   ]
  },
  {
   "cell_type": "code",
   "execution_count": 64,
   "metadata": {
    "collapsed": false
   },
   "outputs": [],
   "source": [
    "%%R\n",
    "\n",
    "ccx=c()\n",
    "for (maf in adjustedMAF$cc) {if (maf>0.5) ccx=c(ccx,(1-maf)) else ccx=c(ccx,maf)}\n",
    "cbx=c()\n",
    "for (maf in adjustedMAF$cb) {if (maf>0.5) cbx=c(cbx,(1-maf)) else cbx=c(cbx,maf)}\n"
   ]
  },
  {
   "cell_type": "code",
   "execution_count": 65,
   "metadata": {
    "collapsed": false
   },
   "outputs": [],
   "source": [
    "%%R\n",
    "\n",
    "xyplot = function(x,y,sub,xtissue,ytissue,case){\n",
    "    \n",
    "    xLab = paste(\"het. allele frequency (\",xtissue,\")\",sep=\"\")\n",
    "    yLab = paste(\"het. allele frequency (\",ytissue,\")\",sep=\"\")\n",
    "    \n",
    "    plot(x,y,pch=20,col=\"#00000078\",axes=F,xlab=xLab,\n",
    "         ylab=yLab,cex.lab=0.85,cex=2,xlim=c(0,1),ylim=c(0,1))\n",
    "\n",
    "    abline(lm(x~y), col=\"darkgrey\",lwd=1)\n",
    "    mylabel = bquote(italic(R)^2 == .(round(summary(lm(x~y))$r.squared,2)))\n",
    "\n",
    "    text(-0.05,0.7, pos=4,labels=mylabel,font=2,cex=1)\n",
    "    text(-0.05,0.9,labels=case,cex=1,pos=4)\n",
    "    mtext(sub,3,0.5,at=0,cex=1,font=1)\n",
    "    axis(1,at=c(0,0.5,1))\n",
    "    axis(2,at=c(0,0.5,1))\n",
    "}"
   ]
  },
  {
   "cell_type": "code",
   "execution_count": 66,
   "metadata": {
    "collapsed": false
   },
   "outputs": [
    {
     "data": {
      "image/png": "[encoded data removed]"
     },
     "metadata": {},
     "output_type": "display_data"
    }
   ],
   "source": [
    "%%R -w 4 -h 4 -u in -r 144\n",
    "\n",
    "par(mfrow=c(2,2))\n",
    "par(oma=c(0,0,0,0))\n",
    "par(mar=c(3,2.5,2,1))\n",
    "\n",
    "par(mgp=c(1.5,0.25,0.25))\n",
    "par(tck=-0.05)\n",
    "    \n",
    "xyplot(ccx,cbx,\"A\",\"cheek\",\"blood\",\"CHILD\")\n",
    "xyplot(adjustedMAF$mc,quartets$mbMAF,\"B\",\"cheek\",\"blood\",\"MOTHER\")\n",
    "xyplot(adjustedMAF$mc,ccx,\"C\",\"mother\",\"child\",\"CHEEK\")\n",
    "xyplot(quartets$mbMAF,cbx,\"D\",\"mother\",\"child\",\"BLOOD\")"
   ]
  },
  {
   "cell_type": "markdown",
   "metadata": {},
   "source": [
    "## Plot the bottleneck size (Fig. S15)"
   ]
  },
  {
   "cell_type": "code",
   "execution_count": 67,
   "metadata": {
    "collapsed": false
   },
   "outputs": [],
   "source": [
    "%%R\n",
    "\n",
    "# We calculated the bottleneck size by comparing \n",
    "# the allele frequency of the minor allele in the mother and her child\n",
    "\n",
    "bottleneckData = data.frame(\n",
    "    mc=adjustedMAF$mc,\n",
    "    mb=quartets[[\"mbMAF\"]],\n",
    "    cc=adjustedMAF$cc,\n",
    "    cb=adjustedMAF$cb)\n",
    "\n",
    "\n",
    "# We used the average of the two tissues in an individual\n",
    "\n",
    "bottleneckData[[\"meanM\"]] = apply(bottleneckData[,1:2], 1,mean)\n",
    "bottleneckData[[\"meanC\"]] = apply(bottleneckData[,3:4], 1,mean)\n",
    "\n",
    "\n",
    "# And modeled the bottleneck as in Millar et al, 2008\n",
    "\n",
    "bottleneckData$bn1 = (bottleneckData$meanM*(1-bottleneckData$meanM))/(bottleneckData$meanC-bottleneckData$meanM)**2\n",
    "bottleneckData$bn1.cheek =(bottleneckData$mc*(1-bottleneckData$mc))/(bottleneckData$mc-bottleneckData$cc)**2\n",
    "bottleneckData$bn1.blood =(bottleneckData$mb*(1-bottleneckData$mb))/(bottleneckData$mb-bottleneckData$cb)**2\n",
    "\n",
    "# Select cases where there is evidence of the minor allele in the maternal linage (i.e. the minor allele is present in\n",
    "# both tissues of the mother, at least 1% in one of the tissues, and 0.2% in the other tissue)\n",
    "\n",
    "\n",
    "\n",
    "bn1.m = bottleneckData[(bottleneckData$mc>=0.01|bottleneckData$mb>=0.01) & \n",
    "                       (bottleneckData$mc>=0.002 & bottleneckData$mb>=0.002),][[\"bn1\"]]\n",
    "\n",
    "bn1.cheek = bottleneckData[bottleneckData$mc>=0.01,][[\"bn1.cheek\"]]\n",
    "bn1.blood = bottleneckData[bottleneckData$mb>=0.01,][[\"bn1.blood\"]]"
   ]
  },
  {
   "cell_type": "code",
   "execution_count": 68,
   "metadata": {
    "collapsed": false
   },
   "outputs": [
    {
     "data": {
      "text/plain": [
       "[1] 51\n"
      ]
     },
     "metadata": {},
     "output_type": "display_data"
    }
   ],
   "source": [
    "%%R\n",
    "length(bn1.m)"
   ]
  },
  {
   "cell_type": "code",
   "execution_count": 69,
   "metadata": {
    "collapsed": false
   },
   "outputs": [],
   "source": [
    "%%R\n",
    "\n",
    "# Accounting for mitotic segregation\n",
    "\n",
    "mitotic = function(row){\n",
    "    mc = row[1]\n",
    "    mb = row[2]\n",
    "    cc = row[3]\n",
    "    cb = row[4]\n",
    "    variance = ((mc-cc)^2+(mc-cb)^2+(mb-cc)^2+(mb-cc)^2-2*(mc-mb)^2-2*(cc-cb)^2)/4\n",
    "    return(variance)\n",
    "}\n",
    "\n",
    "bottleneckData[[\"mitotvar\"]] = apply(bottleneckData,1,mitotic)\n",
    "bottleneckData$bn2 = (bottleneckData$meanM*(1-bottleneckData$meanM))/(bottleneckData$mitotvar)\n",
    "bn2.m = bottleneckData[(bottleneckData$mc>=0.01|bottleneckData$mb>=0.01) & \n",
    "                       (bottleneckData$mc>=0.002 & bottleneckData$mb>=0.002),][[\"bn2\"]]"
   ]
  },
  {
   "cell_type": "code",
   "execution_count": 70,
   "metadata": {
    "collapsed": false
   },
   "outputs": [],
   "source": [
    "%%R\n",
    "\n",
    "# We removed negative or indetermined estimates of the bottleneck\n",
    "\n",
    "bn2.m = bn2.m[bn2.m>0]"
   ]
  },
  {
   "cell_type": "code",
   "execution_count": 71,
   "metadata": {
    "collapsed": false
   },
   "outputs": [
    {
     "data": {
      "text/plain": [
       "[1] 48\n"
      ]
     },
     "metadata": {},
     "output_type": "display_data"
    }
   ],
   "source": [
    "%%R\n",
    "length(bn2.m)"
   ]
  },
  {
   "cell_type": "code",
   "execution_count": 72,
   "metadata": {
    "collapsed": false
   },
   "outputs": [
    {
     "data": {
      "text/plain": [
       " [1]   79.547717  189.808355   63.329506   52.377443   30.433298    1.089532\n",
       " [7]    1.391305   74.492974    1.281418 3261.362658  115.964952   21.084750\n",
       "[13]    7.025862   63.732236   22.491869   31.544520   84.009669    4.666639\n",
       "[19]   34.149423    5.022143   15.733035   24.621966    4.691690  271.547203\n",
       "[25]  146.991653  423.537814  436.551049   20.093841    4.732199   11.793367\n",
       "[31]    9.382348   17.184411  410.962516   20.899100    2.393233   32.361312\n",
       "[37]    5.435722   75.299901   29.041366    4.713742  127.891910  114.086293\n",
       "[43]   58.257179  112.420135  100.576177    3.714381  432.112272   23.985441\n",
       "[49]  228.100474   81.035631   63.612879\n"
      ]
     },
     "metadata": {},
     "output_type": "display_data"
    }
   ],
   "source": [
    "%%R\n",
    "bn1.m"
   ]
  },
  {
   "cell_type": "code",
   "execution_count": 73,
   "metadata": {
    "collapsed": false
   },
   "outputs": [],
   "source": [
    "%%R\n",
    "\n",
    "\n",
    "# Get the actual stats before transforming the data\n",
    "data_tmp=list(bn1.m,bn2.m)\n",
    "medians=c()\n",
    "first=c()\n",
    "third=c()\n",
    "\n",
    "for (i in 1:2){\n",
    "    medians=c(medians,median(unlist(data_tmp[i])))\n",
    "    first=c(first,summary(unlist(data_tmp[i]))[2])\n",
    "    third=c(third,summary(unlist(data_tmp[i]))[5])\n",
    "}\n",
    "\n",
    "bn1.m = log10(bn1.m)\n",
    "bn2.m = log10(bn2.m)"
   ]
  },
  {
   "cell_type": "code",
   "execution_count": 74,
   "metadata": {
    "collapsed": false
   },
   "outputs": [
    {
     "data": {
      "image/png": "[encoded data removed]"
     },
     "metadata": {},
     "output_type": "display_data"
    }
   ],
   "source": [
    "%%R -w 6 -h 5 -u in -r 144\n",
    "\n",
    "par(oma=c(0,0,4,0))\n",
    "par(bty=\"n\")\n",
    "par(xpd=TRUE)\n",
    "par(lwd=1.5)\n",
    "par(pch=20)\n",
    "\n",
    "\n",
    "# blank boxplot\n",
    "boxplot(bn1.m,xlim=c(0,5),ylim=c(-1,3),at=1,frame=F,axes=F, \n",
    "        ylab=\"\",medcol=\"white\",whiskcol=\"white\",boxcol=\"white\",staplecol=\"white\")\n",
    "\n",
    "# actual drawings\n",
    "vioplot(bn1.m,ylim=c(-1,3),at=1,col=\"royalblue\",add=T,border=NA)\n",
    "vioplot(bn2.m,ylim=c(-1,3),at=2,col=\"tomato\",add=T,border=NA,outline=F)\n",
    "\n",
    "# y-axis\n",
    "axis(2,at=seq(0,4,1),lab=seq(0,4,1),pos=0,las=2,lwd=1.5,cex.axis=1.5)\n",
    "\n",
    "# labs \n",
    "labx = expression(paste(\"N=\",\"p(1-p)/\",sigma**2,\"\"[gen]))\n",
    "laby = expression(paste(\"log\"[10],\"(N)\"))\n",
    "mtext(laby,2,1,cex=1.5,adj=1)\n",
    "legend(3,4,legend=c(labx,\"Mitot. Segreg.\"),fill=c(\"royalblue\",\"tomato\"),bty=\"n\",border=\"white\",cex=1.5)\n",
    "\n",
    "\n",
    "# Add boxplot stats to vioplot\n",
    "data_tmp=list(bn1.m, bn2.m)\n",
    "\n",
    "for (i in c(1,2)) {\n",
    "    y=round(median(unlist(data_tmp[i])),2)\n",
    "    text(i+0.175,y,lab=round(medians[i],1),col=\"white\",cex=0.7,font=2)\n",
    "    y=round(summary(unlist(data_tmp[i]))[2],2)\n",
    "    text(i,y,lab=round(first[i],1),col=\"white\",cex=0.7,font=2)\n",
    "    y=round(summary(unlist(data_tmp[i]))[5],2)\n",
    "    text(i,y,lab=round(third[i],1),col=\"white\",cex=0.7,font=2)\n",
    "}\n"
   ]
  },
  {
   "cell_type": "markdown",
   "metadata": {},
   "source": [
    "## Plot age correlations (Fig. 2)"
   ]
  },
  {
   "cell_type": "code",
   "execution_count": 75,
   "metadata": {
    "collapsed": false
   },
   "outputs": [],
   "source": [
    "%%R\n",
    "\n",
    "countHq = function(row){\n",
    "    cheek = row[1]\n",
    "    blood = row[2]\n",
    "    if(cheek>=0.01|blood>=0.01){\n",
    "        return(1)\n",
    "    }else{\n",
    "        return(0)\n",
    "    }\n",
    "}"
   ]
  },
  {
   "cell_type": "code",
   "execution_count": 76,
   "metadata": {
    "collapsed": true
   },
   "outputs": [],
   "source": [
    "%%R\n",
    "\n",
    "# count the number of heteroplasmic sites with MAF ≥ 1% (in either tissue) per individual\n",
    "data = quartets\n",
    "\n",
    "data$Nmother = apply(quartets[,c(5,8)],1,FUN=countHq)\n",
    "data$Nchild = apply(quartets[,c(11,14)],1,FUN=countHq)\n",
    "nsites = aggregate(cbind(Nmother,Nchild) ~ family, data=data,FUN=sum)"
   ]
  },
  {
   "cell_type": "code",
   "execution_count": 77,
   "metadata": {
    "collapsed": false
   },
   "outputs": [
    {
     "data": {
      "text/plain": [
       "  family Nmother Nchild\n",
       "1   M117       0      1\n",
       "2   M132       2      1\n",
       "3   M137       3      1\n",
       "4   M188       1      2\n",
       "5   M190       3      3\n",
       "6   M196       1      1\n"
      ]
     },
     "metadata": {},
     "output_type": "display_data"
    }
   ],
   "source": [
    "%%R\n",
    "head(nsites)"
   ]
  },
  {
   "cell_type": "code",
   "execution_count": 78,
   "metadata": {
    "collapsed": false
   },
   "outputs": [],
   "source": [
    "%%R -i sampAges\n",
    "colnames(sampAges) = c(\"mother\",\"motherAgeCollection\",\"child\",\"childAgeCollection\")"
   ]
  },
  {
   "cell_type": "code",
   "execution_count": 79,
   "metadata": {
    "collapsed": false
   },
   "outputs": [
    {
     "data": {
      "text/plain": [
       "  mother motherAgeCollection  child childAgeCollection\n",
       "0   M132               16658 M132C1               7460\n",
       "1   M137               14294 M137C2               6202\n",
       "2   M186               15938 M186C2               3504\n",
       "3   M188               17714 M188C2               3451\n",
       "4   M190               18761 M190C2               5866\n",
       "5   M195               11826 M195C1               2752\n"
      ]
     },
     "metadata": {},
     "output_type": "display_data"
    }
   ],
   "source": [
    "%%R\n",
    "\n",
    "# age in days\n",
    "head(sampAges)"
   ]
  },
  {
   "cell_type": "code",
   "execution_count": 80,
   "metadata": {
    "collapsed": false
   },
   "outputs": [],
   "source": [
    "%%R\n",
    "ageEffect = merge(nsites,sampAges,by.x=\"family\",by.y=\"mother\", all.y=TRUE)\n",
    "\n",
    "# for samples without heteroplasmic sites, merging produces NAs, so we transformed them to zeros.\n",
    "ageEffect[is.na(ageEffect)] = 0"
   ]
  },
  {
   "cell_type": "code",
   "execution_count": 81,
   "metadata": {
    "collapsed": false
   },
   "outputs": [],
   "source": [
    "%%R\n",
    "\n",
    "# the age of the mother at the time of conception of the child is assumed to be\n",
    "# the current age of the mother, less the current age of the child, less nine months (in days 9x30)\n",
    "ageEffect[[\"motherAgeFertilization\"]] = ageEffect[[\"motherAgeCollection\"]] - (ageEffect[[\"childAgeCollection\"]] + (9*30)) "
   ]
  },
  {
   "cell_type": "code",
   "execution_count": 82,
   "metadata": {
    "collapsed": false
   },
   "outputs": [
    {
     "data": {
      "image/png": "[encoded data removed]"
     },
     "metadata": {},
     "output_type": "display_data"
    }
   ],
   "source": [
    "%%R -w 4 -h 4 -u in -r 144\n",
    "\n",
    "\n",
    "# colors\n",
    "black = \"black\"\n",
    "m_col = \"royalblue1\"\n",
    "c_col = \"tomato1\"\n",
    "\n",
    "# transparent colors\n",
    "mother = rgb(matrix(col2rgb(m_col),1,3),alpha=120,maxColorValue=255)\n",
    "child  = rgb(matrix(col2rgb(c_col),1,3),alpha=120,maxColorValue=255)\n",
    "borders = c(m_col,c_col)\n",
    "\n",
    "# plot margins\n",
    "par(oma=c(0,0,0,0))\n",
    "par(mar=c(0.5,2.1,0,0))\n",
    "\n",
    "# Mother data only\n",
    "d = ageEffect[,c(\"Nmother\",\"motherAgeCollection\")]\n",
    "plot(1:10,1:10,xlim=c(15,60),ylim=c(-1.5,5),type=\"n\",frame=F,axes=F,xlab=\"\",ylab=\"\",main=\"\")\n",
    "\n",
    "points(d[[\"motherAgeCollection\"]]/365,d[[\"Nmother\"]],pch=23,col=borders[1],lwd=1,cex=1,bg=mother)\n",
    "r3=glm(Nmother~motherAgeCollection,data=d,family=\"poisson\")     \n",
    "p3=round(summary(r3)$coefficients[2,4],3)\n",
    "fit3=data.frame(age=r3$data$motherAgeCollection/365,f=r3$fitted.values)\n",
    "fit3=fit3[order(fit3$age),]\n",
    "lines(fit3$age,fit3$f,col=m_col,lwd=2.5)\n",
    "x1=min(fit3$age)\n",
    "x2=max(fit3$age)\n",
    "pmother=round(summary(r3)$coefficients[2,4],2)\n",
    "\n",
    "# Child data only\n",
    "par(new=T)\n",
    "c = ageEffect[,c(\"Nchild\",\"motherAgeFertilization\")]\n",
    "points(c[[\"motherAgeFertilization\"]]/365,c[[\"Nchild\"]],pch=21,col=borders[2],bg=child,lwd=1,cex=1)\n",
    "r3=glm(Nchild~motherAgeFertilization,data=c,family=\"poisson\")\n",
    "fit3=data.frame(con=r3$data$motherAgeFertilization/365,f=r3$fitted.values)\n",
    "fit3=fit3[order(fit3$con),]\n",
    "lines(fit3$con,fit3$f,col=c_col,lwd=2.5)\n",
    "pchild=round(summary(r3)$coefficients[2,4],3)\n",
    "\n",
    "# labs\n",
    "axis(side=1,at=seq(15,60,by=5),lab=NA,lwd=2,pos=-0.25,cex.axis=0.75)\n",
    "axis(side=2,at=0:5,lwd=2,pos=14.5,las=2,cex.axis=0.75)\n",
    "mtext(\"number of point heteroplasmies\",2,1.3,at=2.5,cex=0.75,font=2)\n",
    "mtext(\"maternal age (years)\",1,-0.5,cex=0.75,font=2)\n",
    "for (i in seq(15,60,by=5)){text(i,-0.75,lab=i,cex=0.75)}\n",
    "\n",
    "M=paste(paste(\"mother\",\"p=\",sep=\"  \"),pmother,sep=\"\")\n",
    "C=paste(paste(\"child\",\"p=\",sep=\"      \"),pchild,sep=\"\")\n",
    "legend(15,4.6,legend=c(M,C),col=borders,\n",
    "       pt.bg=c(mother,child),pch=c(23,21),pt.cex=1.2,pt.lwd=1.2,\n",
    "       cex=0.6,title=\"Poisson model\",box.col=\"gray\",box.lwd=1.5,bg=NA)\n",
    "\n",
    "x3=min(fit3$con)\n",
    "x4=max(fit3$con)\n",
    "\n",
    "lines(c(x1,x2),c(-1,-1),lwd=1.5,col=m_col)\n",
    "lines(c(x3,x4),c(-1.1,-1.1),lwd=1.5,col=c_col)\n",
    "mtext(\"fertilization\",1,-1.25,at=27,cex=0.75,col=c_col,font=2)\n",
    "mtext(\"collection\",1,-1.25,at=45,cex=0.75,col=m_col,font=2)\n",
    "\n",
    "\n",
    "\n"
   ]
  },
  {
   "cell_type": "code",
   "execution_count": null,
   "metadata": {
    "collapsed": true
   },
   "outputs": [],
   "source": []
  }
 ],
 "metadata": {
  "celltoolbar": "Raw Cell Format",
  "kernelspec": {
   "display_name": "Python 2",
   "language": "python",
   "name": "python2"
  },
  "language_info": {
   "codemirror_mode": {
    "name": "ipython",
    "version": 2
   },
   "file_extension": ".py",
   "mimetype": "text/x-python",
   "name": "python",
   "nbconvert_exporter": "python",
   "pygments_lexer": "ipython2",
   "version": "2.7.11"
  }
 },
 "nbformat": 4,
 "nbformat_minor": 0
}
