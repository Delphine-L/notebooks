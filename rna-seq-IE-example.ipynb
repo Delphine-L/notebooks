{
 "cells": [
  {
   "cell_type": "markdown",
   "metadata": {},
   "source": [
    "# Welcome to the interactive Galaxy IPython Notebook."
   ]
  },
  {
   "cell_type": "markdown",
   "metadata": {},
   "source": [
    "You can access your data via the dataset number. For example, ``handle = open(get(42), 'r')``.\n",
    "To save data, write your data to a file, and then call ``put('filename.txt')``. The dataset will then be available in your galaxy history.\n",
    "Notebooks can be saved to Galaxy by clicking the large green button at the top right of the IPython interface.<br>\n",
    "More help and informations can be found on the project [website](https://github.com/bgruening/galaxy-ipython)."
   ]
  },
  {
   "cell_type": "markdown",
   "metadata": {},
   "source": [
    "## Configure things\n",
    "Before we begin we need to install a few things that we will be using. This Jupyter instance runs within your own private docker, so you can install anything. Let's start with loading Jupyter R extension `rpy2.ipython`:"
   ]
  },
  {
   "cell_type": "code",
   "execution_count": 1,
   "metadata": {
    "collapsed": false
   },
   "outputs": [],
   "source": [
    "%load_ext rpy2.ipython"
   ]
  },
  {
   "cell_type": "markdown",
   "metadata": {},
   "source": [
    "Next, we will install Bioconductor's DeSeq2 package using Conda, a powerful package manager:"
   ]
  },
  {
   "cell_type": "code",
   "execution_count": 2,
   "metadata": {
    "collapsed": false,
    "scrolled": true
   },
   "outputs": [
    {
     "name": "stdout",
     "output_type": "stream",
     "text": [
      "Fetching package metadata ...........\n",
      "Solving package specifications: ..........\n",
      "\n",
      "# All requested packages already installed.\n",
      "# packages in environment at /opt/conda:\n",
      "#\n",
      "bioconductor-deseq2       1.6.3                         0    cgat\n"
     ]
    }
   ],
   "source": [
    "!conda install -y -c cgat bioconductor-deseq2=1.6.3"
   ]
  },
  {
   "cell_type": "markdown",
   "metadata": {},
   "source": [
    "Finally we will load two python libraries: `pandas` and `os`. `Pandas` will allow us to easily manipulate tabular datasets and `os` will be needed to parse file names. "
   ]
  },
  {
   "cell_type": "code",
   "execution_count": 3,
   "metadata": {
    "collapsed": true
   },
   "outputs": [],
   "source": [
    "import pandas as pd\n",
    "import os"
   ]
  },
  {
   "cell_type": "markdown",
   "metadata": {},
   "source": [
    "## Import data from Galaxy history\n",
    "To import datasets from Galaxy's history into Jupyter we will use dataset numbers. \n",
    "In this particular case we have four datasets: WT1, WT2, SNF2_1, and SNF2_2. We pass history numbers of these datasets into a Python list as `[24,23,22,21]`. In your particular case these numbers **may be different** for change them accordingly. Take care to have wildtype (WT) datasets first and mutanats (SNF2) last:"
   ]
  },
  {
   "cell_type": "code",
   "execution_count": 4,
   "metadata": {
    "collapsed": true
   },
   "outputs": [],
   "source": [
    "my_datasets = [24,23,22,21]"
   ]
  },
  {
   "cell_type": "markdown",
   "metadata": {},
   "source": [
    "Now we iterate over this list and use `get()` function to copy each dataset into Jupyter"
   ]
  },
  {
   "cell_type": "code",
   "execution_count": 5,
   "metadata": {
    "collapsed": true
   },
   "outputs": [],
   "source": [
    "for dataset in my_datasets:\n",
    "    get(dataset)"
   ]
  },
  {
   "cell_type": "markdown",
   "metadata": {},
   "source": [
    "Use shell `ls` command should show files names 24,23 ... and so on (of course if you used different numbers they will be named differently):"
   ]
  },
  {
   "cell_type": "code",
   "execution_count": 6,
   "metadata": {
    "collapsed": false
   },
   "outputs": [
    {
     "name": "stdout",
     "output_type": "stream",
     "text": [
      "21  22\t23  24\t28  ipython_galaxy_notebook.ipynb\r\n"
     ]
    }
   ],
   "source": [
    "!ls"
   ]
  },
  {
   "cell_type": "markdown",
   "metadata": {},
   "source": [
    "Below we define a function `make_df` that create a [dataframe](http://pandas.pydata.org/pandas-docs/stable/generated/pandas.DataFrame.html) (the code is from [notsoconsusing](http://notconfusing.com/joining-many-dataframes-at-once-in-pandas-n-ary-join/)):"
   ]
  },
  {
   "cell_type": "code",
   "execution_count": 7,
   "metadata": {
    "collapsed": true
   },
   "outputs": [],
   "source": [
    "def make_df(filename):\n",
    "    df = pd.read_table(filename)\n",
    "    name = (os.path.basename(filename)).split('.')[0]\n",
    "    df.columns = [name, name+'_ct']\n",
    "    return df"
   ]
  },
  {
   "cell_type": "markdown",
   "metadata": {},
   "source": [
    "Now we use the above function to generate dataframes for each dataset in the list `my_datasets`:"
   ]
  },
  {
   "cell_type": "code",
   "execution_count": 8,
   "metadata": {
    "collapsed": false
   },
   "outputs": [],
   "source": [
    "dfs = [make_df(str(dataset)) for dataset in my_datasets]"
   ]
  },
  {
   "cell_type": "markdown",
   "metadata": {},
   "source": [
    "Now we are joining these datasets on gene names to have a table where each row is a gene and each column contains read counts for thois gene in each dataset (this function is from [notsoconsusing](http://notconfusing.com/joining-many-dataframes-at-once-in-pandas-n-ary-join/)):"
   ]
  },
  {
   "cell_type": "code",
   "execution_count": 9,
   "metadata": {
    "collapsed": false
   },
   "outputs": [
    {
     "data": {
      "text/html": [
       "<div>\n",
       "<table border=\"1\" class=\"dataframe\">\n",
       "  <thead>\n",
       "    <tr style=\"text-align: right;\">\n",
       "      <th></th>\n",
       "      <th>24</th>\n",
       "      <th>24_ct</th>\n",
       "      <th>23</th>\n",
       "      <th>23_ct</th>\n",
       "      <th>22</th>\n",
       "      <th>22_ct</th>\n",
       "      <th>21</th>\n",
       "      <th>21_ct</th>\n",
       "    </tr>\n",
       "  </thead>\n",
       "  <tbody>\n",
       "    <tr>\n",
       "      <th>0</th>\n",
       "      <td>Q0017</td>\n",
       "      <td>0</td>\n",
       "      <td>Q0017</td>\n",
       "      <td>0</td>\n",
       "      <td>Q0017</td>\n",
       "      <td>0</td>\n",
       "      <td>Q0017</td>\n",
       "      <td>0</td>\n",
       "    </tr>\n",
       "    <tr>\n",
       "      <th>1</th>\n",
       "      <td>Q0032</td>\n",
       "      <td>0</td>\n",
       "      <td>Q0032</td>\n",
       "      <td>0</td>\n",
       "      <td>Q0032</td>\n",
       "      <td>0</td>\n",
       "      <td>Q0032</td>\n",
       "      <td>0</td>\n",
       "    </tr>\n",
       "    <tr>\n",
       "      <th>2</th>\n",
       "      <td>Q0045</td>\n",
       "      <td>0</td>\n",
       "      <td>Q0045</td>\n",
       "      <td>2</td>\n",
       "      <td>Q0045</td>\n",
       "      <td>0</td>\n",
       "      <td>Q0045</td>\n",
       "      <td>5</td>\n",
       "    </tr>\n",
       "    <tr>\n",
       "      <th>3</th>\n",
       "      <td>Q0050</td>\n",
       "      <td>2</td>\n",
       "      <td>Q0050</td>\n",
       "      <td>1</td>\n",
       "      <td>Q0050</td>\n",
       "      <td>5</td>\n",
       "      <td>Q0050</td>\n",
       "      <td>1</td>\n",
       "    </tr>\n",
       "    <tr>\n",
       "      <th>4</th>\n",
       "      <td>Q0055</td>\n",
       "      <td>0</td>\n",
       "      <td>Q0055</td>\n",
       "      <td>5</td>\n",
       "      <td>Q0055</td>\n",
       "      <td>3</td>\n",
       "      <td>Q0055</td>\n",
       "      <td>1</td>\n",
       "    </tr>\n",
       "  </tbody>\n",
       "</table>\n",
       "</div>"
      ],
      "text/plain": [
       "      24  24_ct     23  23_ct     22  22_ct     21  21_ct\n",
       "0  Q0017      0  Q0017      0  Q0017      0  Q0017      0\n",
       "1  Q0032      0  Q0032      0  Q0032      0  Q0032      0\n",
       "2  Q0045      0  Q0045      2  Q0045      0  Q0045      5\n",
       "3  Q0050      2  Q0050      1  Q0050      5  Q0050      1\n",
       "4  Q0055      0  Q0055      5  Q0055      3  Q0055      1"
      ]
     },
     "execution_count": 9,
     "metadata": {},
     "output_type": "execute_result"
    }
   ],
   "source": [
    "def join_dfs(ldf, rdf):\n",
    "    return ldf.join(rdf, how='inner')\n",
    "\n",
    "final_df = reduce(join_dfs, dfs) #that's the magic\n",
    "final_df.head()"
   ]
  },
  {
   "cell_type": "markdown",
   "metadata": {},
   "source": [
    "You will see that gene names are redundant and only the first can be saved. Below we create a list that would contain the numbers (ids) of columns to be removed:"
   ]
  },
  {
   "cell_type": "code",
   "execution_count": 10,
   "metadata": {
    "collapsed": true
   },
   "outputs": [],
   "source": [
    "columns = []\n",
    "for i in range(len(list(final_df))):\n",
    "    if ( i > 1 and i%2 == 0 ):\n",
    "        columns.append(i)"
   ]
  },
  {
   "cell_type": "markdown",
   "metadata": {},
   "source": [
    "And the columns tobe removed are:"
   ]
  },
  {
   "cell_type": "code",
   "execution_count": 11,
   "metadata": {
    "collapsed": false
   },
   "outputs": [
    {
     "data": {
      "text/plain": [
       "[2, 4, 6]"
      ]
     },
     "execution_count": 11,
     "metadata": {},
     "output_type": "execute_result"
    }
   ],
   "source": [
    "columns"
   ]
  },
  {
   "cell_type": "markdown",
   "metadata": {
    "slideshow": {
     "slide_type": "-"
    }
   },
   "source": [
    "Now we will actually drop them and rename the first column as `gene_id`:"
   ]
  },
  {
   "cell_type": "code",
   "execution_count": 12,
   "metadata": {
    "collapsed": false
   },
   "outputs": [
    {
     "data": {
      "text/html": [
       "<div>\n",
       "<table border=\"1\" class=\"dataframe\">\n",
       "  <thead>\n",
       "    <tr style=\"text-align: right;\">\n",
       "      <th></th>\n",
       "      <th>gene_id</th>\n",
       "      <th>24_ct</th>\n",
       "      <th>23_ct</th>\n",
       "      <th>22_ct</th>\n",
       "      <th>21_ct</th>\n",
       "    </tr>\n",
       "  </thead>\n",
       "  <tbody>\n",
       "    <tr>\n",
       "      <th>0</th>\n",
       "      <td>Q0017</td>\n",
       "      <td>0</td>\n",
       "      <td>0</td>\n",
       "      <td>0</td>\n",
       "      <td>0</td>\n",
       "    </tr>\n",
       "    <tr>\n",
       "      <th>1</th>\n",
       "      <td>Q0032</td>\n",
       "      <td>0</td>\n",
       "      <td>0</td>\n",
       "      <td>0</td>\n",
       "      <td>0</td>\n",
       "    </tr>\n",
       "    <tr>\n",
       "      <th>2</th>\n",
       "      <td>Q0045</td>\n",
       "      <td>0</td>\n",
       "      <td>2</td>\n",
       "      <td>0</td>\n",
       "      <td>5</td>\n",
       "    </tr>\n",
       "    <tr>\n",
       "      <th>3</th>\n",
       "      <td>Q0050</td>\n",
       "      <td>2</td>\n",
       "      <td>1</td>\n",
       "      <td>5</td>\n",
       "      <td>1</td>\n",
       "    </tr>\n",
       "    <tr>\n",
       "      <th>4</th>\n",
       "      <td>Q0055</td>\n",
       "      <td>0</td>\n",
       "      <td>5</td>\n",
       "      <td>3</td>\n",
       "      <td>1</td>\n",
       "    </tr>\n",
       "  </tbody>\n",
       "</table>\n",
       "</div>"
      ],
      "text/plain": [
       "  gene_id  24_ct  23_ct  22_ct  21_ct\n",
       "0   Q0017      0      0      0      0\n",
       "1   Q0032      0      0      0      0\n",
       "2   Q0045      0      2      0      5\n",
       "3   Q0050      2      1      5      1\n",
       "4   Q0055      0      5      3      1"
      ]
     },
     "execution_count": 12,
     "metadata": {},
     "output_type": "execute_result"
    }
   ],
   "source": [
    "counts = final_df.drop(final_df.columns[columns], axis=1)  \n",
    "counts = counts.rename(columns={ list(counts)[0]: \"gene_id\"})\n",
    "counts.head()"
   ]
  },
  {
   "cell_type": "markdown",
   "metadata": {},
   "source": [
    "The rest of the data analysis will be performed in `R`, so we will input Pandas dataframe `counts` into `R`:"
   ]
  },
  {
   "cell_type": "code",
   "execution_count": 13,
   "metadata": {
    "collapsed": false
   },
   "outputs": [],
   "source": [
    "%R -i counts"
   ]
  },
  {
   "cell_type": "markdown",
   "metadata": {},
   "source": [
    "## Massaging the data\n",
    "Let's take a look at the first several row of this dataframe:"
   ]
  },
  {
   "cell_type": "code",
   "execution_count": 14,
   "metadata": {
    "collapsed": false
   },
   "outputs": [
    {
     "data": {
      "text/plain": [
       "  gene_id X24_ct X23_ct X22_ct X21_ct\n",
       "0   Q0017      0      0      0      0\n",
       "1   Q0032      0      0      0      0\n",
       "2   Q0045      0      2      0      5\n",
       "3   Q0050      2      1      5      1\n",
       "4   Q0055      0      5      3      1\n",
       "5   Q0060      0      0      0      0\n"
      ]
     },
     "metadata": {},
     "output_type": "display_data"
    }
   ],
   "source": [
    "%%R\n",
    "head(counts)"
   ]
  },
  {
   "cell_type": "markdown",
   "metadata": {},
   "source": [
    "Next, we will use this R expression to name all rows after gene names. In this case the gene names are stored in column \"`gene_id`\" hence the `<- counts$gene_id` expression:"
   ]
  },
  {
   "cell_type": "code",
   "execution_count": 15,
   "metadata": {
    "collapsed": false
   },
   "outputs": [],
   "source": [
    "%%R\n",
    "row.names(counts) <- counts$gene_id"
   ]
  },
  {
   "cell_type": "markdown",
   "metadata": {},
   "source": [
    "And now if we look at the few rows of `read.counts` dataframe we will see that rows are named not 1, 2, 3, etc but Q0010, Q0017 etc:"
   ]
  },
  {
   "cell_type": "code",
   "execution_count": 16,
   "metadata": {
    "collapsed": false
   },
   "outputs": [
    {
     "data": {
      "text/plain": [
       "      gene_id X24_ct X23_ct X22_ct X21_ct\n",
       "Q0017   Q0017      0      0      0      0\n",
       "Q0032   Q0032      0      0      0      0\n",
       "Q0045   Q0045      0      2      0      5\n",
       "Q0050   Q0050      2      1      5      1\n",
       "Q0055   Q0055      0      5      3      1\n",
       "Q0060   Q0060      0      0      0      0\n"
      ]
     },
     "metadata": {},
     "output_type": "display_data"
    }
   ],
   "source": [
    "%%R\n",
    "head(counts)"
   ]
  },
  {
   "cell_type": "markdown",
   "metadata": {},
   "source": [
    "Now we will remove the column containing names using not so intuitive R syntax below:"
   ]
  },
  {
   "cell_type": "code",
   "execution_count": 17,
   "metadata": {
    "collapsed": false
   },
   "outputs": [],
   "source": [
    "%%R\n",
    "counts <- counts[ , -c(1)]"
   ]
  },
  {
   "cell_type": "markdown",
   "metadata": {},
   "source": [
    "Let's check if it is actually removed:"
   ]
  },
  {
   "cell_type": "code",
   "execution_count": 18,
   "metadata": {
    "collapsed": false
   },
   "outputs": [
    {
     "data": {
      "text/plain": [
       "      X24_ct X23_ct X22_ct X21_ct\n",
       "Q0017      0      0      0      0\n",
       "Q0032      0      0      0      0\n",
       "Q0045      0      2      0      5\n",
       "Q0050      2      1      5      1\n",
       "Q0055      0      5      3      1\n",
       "Q0060      0      0      0      0\n"
      ]
     },
     "metadata": {},
     "output_type": "display_data"
    }
   ],
   "source": [
    "%%R\n",
    "head(counts)"
   ]
  },
  {
   "cell_type": "markdown",
   "metadata": {},
   "source": [
    "Give sensible names (conditions) to columns within the dataframe:"
   ]
  },
  {
   "cell_type": "code",
   "execution_count": 19,
   "metadata": {
    "collapsed": false
   },
   "outputs": [],
   "source": [
    "%%R\n",
    "names(counts) <- c(\"WT_1\", \"WT_2\", \"SNF2_1\", \"SNF2_2\")"
   ]
  },
  {
   "cell_type": "markdown",
   "metadata": {},
   "source": [
    "Check that this is in fact the case:"
   ]
  },
  {
   "cell_type": "code",
   "execution_count": 20,
   "metadata": {
    "collapsed": false
   },
   "outputs": [
    {
     "data": {
      "text/plain": [
       "      WT_1 WT_2 SNF2_1 SNF2_2\n",
       "Q0017    0    0      0      0\n",
       "Q0032    0    0      0      0\n",
       "Q0045    0    2      0      5\n",
       "Q0050    2    1      5      1\n",
       "Q0055    0    5      3      1\n",
       "Q0060    0    0      0      0\n"
      ]
     },
     "metadata": {},
     "output_type": "display_data"
    }
   ],
   "source": [
    "%%R\n",
    "head(counts)"
   ]
  },
  {
   "cell_type": "markdown",
   "metadata": {},
   "source": [
    "Here we will create a new dataframe called `read.count_noZero` by removing all rows from the original dataframe (`read.counts`) where read counts are zero for all conditions:"
   ]
  },
  {
   "cell_type": "code",
   "execution_count": 21,
   "metadata": {
    "collapsed": false
   },
   "outputs": [],
   "source": [
    "%%R\n",
    "rc.keep <- rowSums(counts) > 0\n",
    "read.counts_noZero <- counts[rc.keep,]"
   ]
  },
  {
   "cell_type": "markdown",
   "metadata": {},
   "source": [
    "No rows with all zeros are now visible in the first few lines of the data:"
   ]
  },
  {
   "cell_type": "code",
   "execution_count": 22,
   "metadata": {
    "collapsed": false
   },
   "outputs": [
    {
     "data": {
      "text/plain": [
       "      WT_1 WT_2 SNF2_1 SNF2_2\n",
       "Q0045    0    2      0      5\n",
       "Q0050    2    1      5      1\n",
       "Q0055    0    5      3      1\n",
       "Q0085    0    1      1      0\n",
       "Q0105    0    1      0      0\n",
       "Q0120    0    0      2      0\n"
      ]
     },
     "metadata": {},
     "output_type": "display_data"
    }
   ],
   "source": [
    "%%R\n",
    "head(read.counts_noZero)"
   ]
  },
  {
   "cell_type": "markdown",
   "metadata": {},
   "source": [
    "## Normalizing counts with DESeq2\n",
    "Tell R to use DESeq2 library:"
   ]
  },
  {
   "cell_type": "code",
   "execution_count": 23,
   "metadata": {
    "collapsed": false
   },
   "outputs": [
    {
     "name": "stderr",
     "output_type": "stream",
     "text": [
      "/opt/conda/envs/python2/lib/python2.7/site-packages/rpy2/robjects/functions.py:106: UserWarning: Loading required package: S4Vectors\n",
      "\n",
      "  res = super(Function, self).__call__(*new_args, **new_kwargs)\n",
      "/opt/conda/envs/python2/lib/python2.7/site-packages/rpy2/robjects/functions.py:106: UserWarning: Loading required package: stats4\n",
      "\n",
      "  res = super(Function, self).__call__(*new_args, **new_kwargs)\n",
      "/opt/conda/envs/python2/lib/python2.7/site-packages/rpy2/robjects/functions.py:106: UserWarning: Loading required package: BiocGenerics\n",
      "\n",
      "  res = super(Function, self).__call__(*new_args, **new_kwargs)\n",
      "/opt/conda/envs/python2/lib/python2.7/site-packages/rpy2/robjects/functions.py:106: UserWarning: Loading required package: parallel\n",
      "\n",
      "  res = super(Function, self).__call__(*new_args, **new_kwargs)\n",
      "/opt/conda/envs/python2/lib/python2.7/site-packages/rpy2/robjects/functions.py:106: UserWarning: \n",
      "Attaching package: 'BiocGenerics'\n",
      "\n",
      "\n",
      "  res = super(Function, self).__call__(*new_args, **new_kwargs)\n",
      "/opt/conda/envs/python2/lib/python2.7/site-packages/rpy2/robjects/functions.py:106: UserWarning: The following objects are masked from 'package:parallel':\n",
      "\n",
      "    clusterApply, clusterApplyLB, clusterCall, clusterEvalQ,\n",
      "    clusterExport, clusterMap, parApply, parCapply, parLapply,\n",
      "    parLapplyLB, parRapply, parSapply, parSapplyLB\n",
      "\n",
      "\n",
      "  res = super(Function, self).__call__(*new_args, **new_kwargs)\n",
      "/opt/conda/envs/python2/lib/python2.7/site-packages/rpy2/robjects/functions.py:106: UserWarning: The following object is masked from 'package:stats':\n",
      "\n",
      "    xtabs\n",
      "\n",
      "\n",
      "  res = super(Function, self).__call__(*new_args, **new_kwargs)\n",
      "/opt/conda/envs/python2/lib/python2.7/site-packages/rpy2/robjects/functions.py:106: UserWarning: The following objects are masked from 'package:base':\n",
      "\n",
      "    Filter, Find, Map, Position, Reduce, anyDuplicated, append,\n",
      "    as.data.frame, as.vector, cbind, colnames, do.call, duplicated,\n",
      "    eval, evalq, get, intersect, is.unsorted, lapply, mapply, match,\n",
      "    mget, order, paste, pmax, pmax.int, pmin, pmin.int, rank, rbind,\n",
      "    rep.int, rownames, sapply, setdiff, sort, table, tapply, union,\n",
      "    unique, unlist, unsplit\n",
      "\n",
      "\n",
      "  res = super(Function, self).__call__(*new_args, **new_kwargs)\n",
      "/opt/conda/envs/python2/lib/python2.7/site-packages/rpy2/robjects/functions.py:106: UserWarning: Loading required package: IRanges\n",
      "\n",
      "  res = super(Function, self).__call__(*new_args, **new_kwargs)\n",
      "/opt/conda/envs/python2/lib/python2.7/site-packages/rpy2/robjects/functions.py:106: UserWarning: Loading required package: GenomicRanges\n",
      "\n",
      "  res = super(Function, self).__call__(*new_args, **new_kwargs)\n",
      "/opt/conda/envs/python2/lib/python2.7/site-packages/rpy2/robjects/functions.py:106: UserWarning: Loading required package: GenomeInfoDb\n",
      "\n",
      "  res = super(Function, self).__call__(*new_args, **new_kwargs)\n",
      "/opt/conda/envs/python2/lib/python2.7/site-packages/rpy2/robjects/functions.py:106: UserWarning: Loading required package: Rcpp\n",
      "\n",
      "  res = super(Function, self).__call__(*new_args, **new_kwargs)\n",
      "/opt/conda/envs/python2/lib/python2.7/site-packages/rpy2/robjects/functions.py:106: UserWarning: Loading required package: RcppArmadillo\n",
      "\n",
      "  res = super(Function, self).__call__(*new_args, **new_kwargs)\n"
     ]
    }
   ],
   "source": [
    "%%R\n",
    "library ( DESeq2 )"
   ]
  },
  {
   "cell_type": "markdown",
   "metadata": {},
   "source": [
    "Now for DESeq2 to work we need to create another dataframe that maps sample name to a conditions. In our example here we have two conditions:\n",
    "  * WT = wildtype\n",
    "  * SNF2 = snf2\n",
    "  \n",
    " Each of these conditions has two samples (replicates): WT1 and WT2 as well as SNF2_1 and SNF2_2. So we will create a new dataframe called `sample.info` that will hold this information:"
   ]
  },
  {
   "cell_type": "code",
   "execution_count": 24,
   "metadata": {
    "collapsed": false
   },
   "outputs": [],
   "source": [
    "%%R\n",
    "sample.info <- data.frame(condition = c( rep(\"WT\", 2), rep(\"SNF2\", 2)), \n",
    "                          row.names = c(paste(\"WT\", c(1:2), sep=\"_\"),\n",
    "                                        paste(\"SNF2\", c(1:2),sep=\"_\")) )"
   ]
  },
  {
   "cell_type": "code",
   "execution_count": 25,
   "metadata": {
    "collapsed": false
   },
   "outputs": [
    {
     "data": {
      "text/plain": [
       "       condition\n",
       "WT_1          WT\n",
       "WT_2          WT\n",
       "SNF2_1      SNF2\n",
       "SNF2_2      SNF2\n"
      ]
     },
     "metadata": {},
     "output_type": "display_data"
    }
   ],
   "source": [
    "%%R\n",
    "head(sample.info)"
   ]
  },
  {
   "cell_type": "markdown",
   "metadata": {},
   "source": [
    "We need to generate DESeq2 dataset:"
   ]
  },
  {
   "cell_type": "code",
   "execution_count": 26,
   "metadata": {
    "collapsed": false
   },
   "outputs": [],
   "source": [
    "%%R\n",
    "\n",
    "DESeq.ds <- DESeqDataSetFromMatrix( countData = read.counts_noZero , \n",
    "                                   colData = sample.info , design = ~ condition )"
   ]
  },
  {
   "cell_type": "markdown",
   "metadata": {},
   "source": [
    "The following command will sum read counts for all four samples and thus inform us about the library sizes:"
   ]
  },
  {
   "cell_type": "code",
   "execution_count": 27,
   "metadata": {
    "collapsed": false
   },
   "outputs": [
    {
     "data": {
      "text/plain": [
       "array([ 5294905.,  7095234.,  9379369.,  7905710.])"
      ]
     },
     "execution_count": 27,
     "metadata": {},
     "output_type": "execute_result"
    }
   ],
   "source": [
    "%R colSums ( read.counts_noZero )"
   ]
  },
  {
   "cell_type": "markdown",
   "metadata": {},
   "source": [
    "Here we will let DESeq2 to performs its statistical magic by estimating the size factors that will be used in normalization:"
   ]
  },
  {
   "cell_type": "code",
   "execution_count": 28,
   "metadata": {
    "collapsed": false
   },
   "outputs": [
    {
     "data": {
      "text/plain": [
       "<RS4 - Python:0x7f1dbc3f1cf8 / R:0xa0d03a0>"
      ]
     },
     "execution_count": 28,
     "metadata": {},
     "output_type": "execute_result"
    }
   ],
   "source": [
    "%R DESeq.ds <- estimateSizeFactors ( DESeq.ds )"
   ]
  },
  {
   "cell_type": "markdown",
   "metadata": {},
   "source": [
    "Now we will perform the normalization:"
   ]
  },
  {
   "cell_type": "code",
   "execution_count": 29,
   "metadata": {
    "collapsed": false
   },
   "outputs": [
    {
     "data": {
      "text/plain": [
       "array([[  0.        ,   2.05379072,   0.        ,   4.37802013],\n",
       "       [  3.24010321,   1.02689536,   3.40081834,   0.87560403],\n",
       "       [  0.        ,   5.13447679,   2.040491  ,   0.87560403],\n",
       "       ..., \n",
       "       [ 77.7624771 ,  81.1247333 ,  72.09734882,  69.17271801],\n",
       "       [  6.48020643,   7.18826751,   2.040491  ,   1.75120805],\n",
       "       [ 66.42211586,  27.72617467,  28.56687406,  36.77536907]])"
      ]
     },
     "execution_count": 29,
     "metadata": {},
     "output_type": "execute_result"
    }
   ],
   "source": [
    "%R counts.normalized <- counts ( DESeq.ds , normalized = TRUE )"
   ]
  },
  {
   "cell_type": "markdown",
   "metadata": {},
   "source": [
    "And also perform log2 transformation:"
   ]
  },
  {
   "cell_type": "code",
   "execution_count": 30,
   "metadata": {
    "collapsed": false
   },
   "outputs": [
    {
     "data": {
      "text/plain": [
       "array([[ 0.        ,  1.61060119,  0.        ,  2.42707515],\n",
       "       [ 2.08409938,  1.01927161,  2.13777182,  0.90735528],\n",
       "       [ 0.        ,  2.6169403 ,  1.60430432,  0.90735528],\n",
       "       ..., \n",
       "       [ 6.29943658,  6.35974488,  6.19174718,  6.13283834],\n",
       "       [ 2.90307808,  3.03355824,  1.60430432,  1.46006524],\n",
       "       [ 6.07515   ,  4.84429398,  4.88590982,  5.23937395]])"
      ]
     },
     "execution_count": 30,
     "metadata": {},
     "output_type": "execute_result"
    }
   ],
   "source": [
    "%R log.norm.counts <- log2( counts.normalized + 1)"
   ]
  },
  {
   "cell_type": "markdown",
   "metadata": {},
   "source": [
    "To appreciate the effect of log2 transformation let's plot non-transformed counts:"
   ]
  },
  {
   "cell_type": "code",
   "execution_count": 31,
   "metadata": {
    "collapsed": false
   },
   "outputs": [
    {
     "data": {
      "image/png": "[encoded data removed]"
     },
     "metadata": {},
     "output_type": "display_data"
    }
   ],
   "source": [
    "%%R\n",
    "boxplot( counts.normalized , notch = TRUE ,\n",
    "        main = \"untransformed read counts\" , ylab = \"read counts\" )"
   ]
  },
  {
   "cell_type": "markdown",
   "metadata": {},
   "source": [
    "followed by transformed ones:"
   ]
  },
  {
   "cell_type": "code",
   "execution_count": 32,
   "metadata": {
    "collapsed": false
   },
   "outputs": [
    {
     "data": {
      "image/png": "[encoded data removed]"
     },
     "metadata": {},
     "output_type": "display_data"
    }
   ],
   "source": [
    "%%R\n",
    "boxplot( log.norm.counts , notch = TRUE ,\n",
    "        main = \"log2-transformed read counts\" , ylab = \"log2(read counts)\" )"
   ]
  },
  {
   "cell_type": "markdown",
   "metadata": {},
   "source": [
    "## Shrinking varinance\n",
    "Read count data is [heteroscedastic](https://en.wikipedia.org/wiki/Heteroscedasticity). In this particular case there a greater variance among expression estimates for genes where read count is low. This can be visualized by plotting log2 normalized contans for two conditions against each other:"
   ]
  },
  {
   "cell_type": "code",
   "execution_count": 33,
   "metadata": {
    "collapsed": false
   },
   "outputs": [
    {
     "data": {
      "image/png": "[encoded data removed]"
     },
     "metadata": {},
     "output_type": "display_data"
    }
   ],
   "source": [
    "%%R\n",
    "plot (log.norm.counts [ ,1:2] , cex =.1 , main = \"Normalized log2 ( read counts )\" )"
   ]
  },
  {
   "cell_type": "markdown",
   "metadata": {},
   "source": [
    "The DESeq2 allows to adjust for heteroscedasticity by assigning more homogeneous read to genes with low counts, so they resemble genes with high counts. This is performed using the `rlog` function:"
   ]
  },
  {
   "cell_type": "code",
   "execution_count": 34,
   "metadata": {
    "collapsed": false
   },
   "outputs": [],
   "source": [
    "%%R\n",
    "rlog.DESeq.sumExp <- rlog( DESeq.ds , blind = TRUE )\n",
    "rlog.norm.counts <- assay( rlog.DESeq.sumExp )"
   ]
  },
  {
   "cell_type": "markdown",
   "metadata": {},
   "source": [
    "Now if we visualize the same relationship using `rlog` transformed counts we will see a much \"narrower\" plot:"
   ]
  },
  {
   "cell_type": "code",
   "execution_count": 35,
   "metadata": {
    "collapsed": false
   },
   "outputs": [
    {
     "data": {
      "image/png": "[encoded data removed]"
     },
     "metadata": {},
     "output_type": "display_data"
    }
   ],
   "source": [
    "%%R\n",
    "plot (rlog.norm.counts [ ,1:2] , cex =.1 , main = \"Normalized rlog transformed count ( read counts )\" )"
   ]
  },
  {
   "cell_type": "markdown",
   "metadata": {
    "collapsed": true
   },
   "source": [
    "And so get the idea. You can continue exploring these (or other) data using this Jupyter notebook as a staring point."
   ]
  },
  {
   "cell_type": "code",
   "execution_count": null,
   "metadata": {
    "collapsed": true
   },
   "outputs": [],
   "source": []
  }
 ],
 "metadata": {
  "kernelspec": {
   "display_name": "Python 2",
   "language": "python",
   "name": "python2"
  },
  "language_info": {
   "codemirror_mode": {
    "name": "ipython",
    "version": 2
   },
   "file_extension": ".py",
   "mimetype": "text/x-python",
   "name": "python",
   "nbconvert_exporter": "python",
   "pygments_lexer": "ipython2",
   "version": "2.7.11"
  }
 },
 "nbformat": 4,
 "nbformat_minor": 0
}
